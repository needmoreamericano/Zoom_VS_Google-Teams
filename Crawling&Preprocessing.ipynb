{
 "cells": [
  {
   "cell_type": "code",
   "execution_count": null,
   "id": "a47661ca",
   "metadata": {},
   "outputs": [],
   "source": [
    "from bs4 import BeautifulSoup\n",
    "import urllib.request as req\n",
    "import re\n",
    "import pandas as pd\n",
    "from selenium import webdriver\n",
    "from selenium.webdriver.common.keys import Keys\n",
    "from selenium.common.exceptions import NoSuchElementException\n",
    "from selenium.webdriver.common.by import By\n",
    "from time import sleep\n",
    "from nltk.sentiment.vader import SentimentIntensityAnalyzer\n",
    "from nltk.tokenize import word_tokenize\n",
    "from sklearn.feature_extraction.text import TfidfVectorizer\n",
    "from sklearn.feature_extraction import text\n",
    "from nltk.stem import WordNetLemmatizer\n",
    "from nltk import pos_tag\n",
    "from nltk.corpus import wordnet\n",
    "from sklearn.cluster import KMeans\n",
    "import matplotlib.pyplot as plt"
   ]
  },
  {
   "cell_type": "markdown",
   "id": "4d084a62",
   "metadata": {},
   "source": [
    "## 01. Data Crawling"
   ]
  },
  {
   "cell_type": "code",
   "execution_count": null,
   "id": "6b4e2891",
   "metadata": {},
   "outputs": [],
   "source": [
    "# Chrome Setup\n",
    "options = webdriver.ChromeOptions()\n",
    "options.add_experimental_option(\"prefs\", {'intl.accept_languates': 'en,en_US'})\n",
    "driver = webdriver.Chrome(options = options)"
   ]
  },
  {
   "cell_type": "code",
   "execution_count": null,
   "id": "ccdcf79c",
   "metadata": {},
   "outputs": [],
   "source": [
    "# scrap basic app infos \n",
    "def crawl_basicInfo():\n",
    "    doc = BeautifulSoup(driver.page_source, \"html.parser\")\n",
    "\n",
    "    app_titles.append(doc.find(class_ = \"AHFaub\").text)\n",
    "    app_categories.append(doc.find_all(class_ = \"hrTbp R8zArc\")[0].text)\n",
    "    app_developers.append(doc.find_all(class_ = \"hrTbp R8zArc\")[1].text)\n",
    "    app_ratings.append(float(doc.find(class_ = \"BHMmbe\").text))\n",
    "    app_reviewCnts.append(int(doc.find(class_ = \"AYi5wd TBRnV\").text.replace(\",\", \"\")))\n",
    "    app_lastUpdates.append(doc.find_all(class_ = \"htlgb\")[0].text)\n",
    "    app_downloads.append(doc.find_all(class_ = \"htlgb\")[4].text)"
   ]
  },
  {
   "cell_type": "code",
   "execution_count": null,
   "id": "029e8155",
   "metadata": {},
   "outputs": [],
   "source": [
    "# Read more reviews\n",
    "def click_readMore():\n",
    "    driver.find_element_by_xpath('//*[@id=\"fcxH9b\"]/div[4]/c-wiz/div/div[2]/div/div/main/div/div[1]/div[6]/div').click()"
   ]
  },
  {
   "cell_type": "code",
   "execution_count": null,
   "id": "d3613fe8",
   "metadata": {},
   "outputs": [],
   "source": [
    "# Load target amount of reviews\n",
    "def load_reviews():\n",
    "    currCnt = 0\n",
    "    while currCnt < targetCnt:\n",
    "        driver.execute_script(\"window.scrollTo(0, document.body.scrollHeight);\")\n",
    "        driver.find_element_by_tag_name(\"body\").send_keys(Keys.PAGE_UP)\n",
    "        sleep(2)\n",
    "\n",
    "        currCnt = len(driver.find_elements_by_class_name(\"X43Kjb\"))\n",
    "\n",
    "        try: \n",
    "            driver.find_element_by_xpath(\"//*[@id='fcxH9b']/div[4]/c-wiz[2]/div/div[2]/div/div/main/div/div[1]/div[2]/div[2]/div\").click()\n",
    "        except NoSuchElementException:\n",
    "            pass"
   ]
  },
  {
   "cell_type": "code",
   "execution_count": null,
   "id": "0725657e",
   "metadata": {},
   "outputs": [],
   "source": [
    "# Click all 'Full Review' Buttons\n",
    "def click_fullReviews():\n",
    "    fullBtn = driver.find_elements_by_xpath(\"//button[@jsaction='click:TiglPc']\")\n",
    "\n",
    "    for btn in fullBtn:\n",
    "        driver.execute_script(\"arguments[0].click();\", btn)"
   ]
  },
  {
   "cell_type": "code",
   "execution_count": null,
   "id": "15f9ca2b",
   "metadata": {},
   "outputs": [],
   "source": [
    "# Crawl review datas \n",
    "def crawl_reviews():\n",
    "    doc = BeautifulSoup(driver.page_source, \"html.parser\")\n",
    "\n",
    "    n = doc.find_all(class_ = \"X43Kjb\")\n",
    "    names.extend([temp.text for temp in n[4:targetCnt+4]])\n",
    "\n",
    "    d = doc.find_all(class_ = \"p2TkOb\")\n",
    "    dates.extend([temp.text for temp in d[4:targetCnt+4]])\n",
    "\n",
    "    r = driver.find_elements_by_xpath(\"//span[@class='nt2C1d']/div[@class='pf5lIe']/div[@role='img']\")\n",
    "    for temp in r[4:targetCnt+4]:\n",
    "        ratings.append(int(re.findall('\\d', temp.get_attribute('aria-label'))[0]))\n",
    "\n",
    "    uv = doc.find_all(class_ = \"jUL89d y92BAb\")\n",
    "    upVotes.extend([int(temp.text) for temp in uv[4:targetCnt+4]])\n",
    "\n",
    "    lc = driver.find_elements_by_xpath(\"//span[contains(@jsname, 'fbQN7e')]\")\n",
    "    sc = driver.find_elements_by_xpath(\"//span[contains(@jsname, 'bN97Pc')]\")\n",
    "    \n",
    "    del lc[0:4]\n",
    "    del sc[0:4]\n",
    "    \n",
    "    comments.extend([t.text if t.text != '' else lc[i].text for i, t in enumerate(sc[0:targetCnt])])"
   ]
  },
  {
   "cell_type": "code",
   "execution_count": null,
   "id": "bf291bb3",
   "metadata": {},
   "outputs": [],
   "source": [
    "# Start crawling with pre-defined functions\n",
    "for i in range(0, 2):\n",
    "    driver.get(urls[i])\n",
    "    crawl_basicInfo()\n",
    "    click_readMore()\n",
    "    load_reviews()\n",
    "    click_fullReviews()\n",
    "    crawl_reviews()"
   ]
  },
  {
   "cell_type": "code",
   "execution_count": null,
   "id": "1f3f49f6",
   "metadata": {},
   "outputs": [],
   "source": [
    "# DataFrame with ZOOM and Teams' overview information\n",
    "df_overview = pd.DataFrame({\"Title\":app_titles,\n",
    "                            \"Category\":app_categories,\n",
    "                            \"Developer\":app_developers,\n",
    "                            \"Rating\":app_ratings,\n",
    "                            \"# of Reviews\":app_reviewCnts,\n",
    "                            \"# of Downloads\":app_downloads,\n",
    "                            \"Last Update\":app_lastUpdates})"
   ]
  },
  {
   "cell_type": "code",
   "execution_count": null,
   "id": "1084e771",
   "metadata": {},
   "outputs": [],
   "source": [
    "# Seperate DataFrames for user reviews of  ZOOM and Teams\n",
    "doubleCnt = targetCnt * 2;"
   ]
  },
  {
   "cell_type": "code",
   "execution_count": null,
   "id": "1188160d",
   "metadata": {},
   "outputs": [],
   "source": [
    "df_zoom = pd.DataFrame({\"Reviewer\":names[0:targetCnt],\n",
    "                          \"Date\":dates[0:targetCnt],\n",
    "                          \"Rating\":ratings[0:targetCnt],\n",
    "                          \"UpVote\":upVotes[0:targetCnt],\n",
    "                          \"Comment\":comments[0:targetCnt]})"
   ]
  },
  {
   "cell_type": "code",
   "execution_count": null,
   "id": "ff423dbe",
   "metadata": {},
   "outputs": [],
   "source": [
    "df_teams = pd.DataFrame({\"Reviewer\":names[targetCnt:doubleCnt],\n",
    "                          \"Date\":dates[targetCnt:doubleCnt],\n",
    "                          \"Rating\":ratings[targetCnt:doubleCnt],\n",
    "                          \"UpVote\":upVotes[targetCnt:doubleCnt],\n",
    "                          \"Comment\":comments[targetCnt:doubleCnt]})"
   ]
  },
  {
   "cell_type": "code",
   "execution_count": null,
   "id": "50d8f05f",
   "metadata": {},
   "outputs": [],
   "source": [
    "plt.bar(['ZOOM', 'Microsoft Teams'], [len(df_zoom.index), len(df_teams.index)], color='Red', alpha=0.4)\n",
    "plt.title(\"Number of Reviews by Application\", fontsize=15)\n",
    "plt.ylabel('Review Counts', fontsize=13)\n",
    "plt.show()"
   ]
  }
 ],
 "metadata": {
  "kernelspec": {
   "display_name": "Python 3",
   "language": "python",
   "name": "python3"
  },
  "language_info": {
   "codemirror_mode": {
    "name": "ipython",
    "version": 3
   },
   "file_extension": ".py",
   "mimetype": "text/x-python",
   "name": "python",
   "nbconvert_exporter": "python",
   "pygments_lexer": "ipython3",
   "version": "3.7.11"
  }
 },
 "nbformat": 4,
 "nbformat_minor": 5
}
