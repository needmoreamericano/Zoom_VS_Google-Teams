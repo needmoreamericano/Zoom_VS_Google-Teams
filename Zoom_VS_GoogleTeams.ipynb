{
 "cells": [
  {
   "cell_type": "code",
   "execution_count": 1,
   "metadata": {},
   "outputs": [],
   "source": [
    "from bs4 import BeautifulSoup\n",
    "import urllib.request as req\n",
    "import re\n",
    "import pandas as pd"
   ]
  },
  {
   "cell_type": "code",
   "execution_count": 2,
   "metadata": {},
   "outputs": [],
   "source": [
    "from selenium import webdriver\n",
    "from selenium.webdriver.common.keys import Keys\n",
    "from selenium.common.exceptions import NoSuchElementException\n",
    "from selenium.webdriver.common.by import By\n",
    "from time import sleep"
   ]
  },
  {
   "cell_type": "code",
   "execution_count": 3,
   "metadata": {},
   "outputs": [],
   "source": [
    "from nltk.sentiment.vader import SentimentIntensityAnalyzer\n",
    "from nltk.tokenize import word_tokenize"
   ]
  },
  {
   "cell_type": "code",
   "execution_count": 4,
   "metadata": {},
   "outputs": [],
   "source": [
    "from sklearn.feature_extraction.text import TfidfVectorizer\n",
    "from sklearn.feature_extraction import text"
   ]
  },
  {
   "cell_type": "code",
   "execution_count": 5,
   "metadata": {},
   "outputs": [],
   "source": [
    "from nltk.stem import WordNetLemmatizer\n",
    "from nltk import pos_tag\n",
    "from nltk.corpus import wordnet"
   ]
  },
  {
   "cell_type": "code",
   "execution_count": 6,
   "metadata": {},
   "outputs": [],
   "source": [
    "from sklearn.cluster import KMeans\n",
    "import matplotlib.pyplot as plt"
   ]
  },
  {
   "cell_type": "markdown",
   "metadata": {},
   "source": [
    "## 00. Variables"
   ]
  },
  {
   "cell_type": "code",
   "execution_count": 7,
   "metadata": {},
   "outputs": [],
   "source": [
    "# variables for crawling process\n",
    "targetCnt = 1000"
   ]
  },
  {
   "cell_type": "code",
   "execution_count": 8,
   "metadata": {},
   "outputs": [],
   "source": [
    "# variables to store App's general info \n",
    "app_titles = []\n",
    "app_categories = []\n",
    "app_developers = []\n",
    "app_ratings = []\n",
    "app_reviewCnts = []\n",
    "app_lastUpdates = []\n",
    "app_downloads = []"
   ]
  },
  {
   "cell_type": "code",
   "execution_count": 9,
   "metadata": {},
   "outputs": [],
   "source": [
    "# variables to store crawled data\n",
    "names = [] \n",
    "dates = []\n",
    "ratings = []\n",
    "upVotes = []\n",
    "comments = []"
   ]
  },
  {
   "cell_type": "code",
   "execution_count": 10,
   "metadata": {},
   "outputs": [],
   "source": [
    "# variable with target urls \n",
    "urls = ['https://play.google.com/store/apps/details?id=us.zoom.videomeetings',\n",
    "        'https://play.google.com/store/apps/details?id=com.microsoft.teams']"
   ]
  },
  {
   "cell_type": "markdown",
   "metadata": {},
   "source": [
    "## 01. Data Crawling"
   ]
  },
  {
   "cell_type": "code",
   "execution_count": 11,
   "metadata": {},
   "outputs": [],
   "source": [
    "# Chrome Setup\n",
    "options = webdriver.ChromeOptions()\n",
    "options.add_experimental_option(\"prefs\", {'intl.accept_languates': 'en,en_US'})\n",
    "driver = webdriver.Chrome(options = options)"
   ]
  },
  {
   "cell_type": "code",
   "execution_count": 12,
   "metadata": {},
   "outputs": [],
   "source": [
    "# scrap basic app infos \n",
    "def crawl_basicInfo():\n",
    "    doc = BeautifulSoup(driver.page_source, \"html.parser\")\n",
    "\n",
    "    app_titles.append(doc.find(class_ = \"AHFaub\").text)\n",
    "    app_categories.append(doc.find_all(class_ = \"hrTbp R8zArc\")[0].text)\n",
    "    app_developers.append(doc.find_all(class_ = \"hrTbp R8zArc\")[1].text)\n",
    "    app_ratings.append(float(doc.find(class_ = \"BHMmbe\").text))\n",
    "    app_reviewCnts.append(int(doc.find(class_ = \"AYi5wd TBRnV\").text.replace(\",\", \"\")))\n",
    "    app_lastUpdates.append(doc.find_all(class_ = \"htlgb\")[0].text)\n",
    "    app_downloads.append(doc.find_all(class_ = \"htlgb\")[4].text)"
   ]
  },
  {
   "cell_type": "code",
   "execution_count": 13,
   "metadata": {},
   "outputs": [],
   "source": [
    "# Read more reviews\n",
    "def click_readMore():\n",
    "    driver.find_element_by_xpath('//*[@id=\"fcxH9b\"]/div[4]/c-wiz/div/div[2]/div/div/main/div/div[1]/div[6]/div').click()"
   ]
  },
  {
   "cell_type": "code",
   "execution_count": 14,
   "metadata": {},
   "outputs": [],
   "source": [
    "# Load target amount of reviews\n",
    "def load_reviews():\n",
    "    currCnt = 0\n",
    "    while currCnt < targetCnt:\n",
    "        driver.execute_script(\"window.scrollTo(0, document.body.scrollHeight);\")\n",
    "        driver.find_element_by_tag_name(\"body\").send_keys(Keys.PAGE_UP)\n",
    "        sleep(2)\n",
    "\n",
    "        currCnt = len(driver.find_elements_by_class_name(\"X43Kjb\"))\n",
    "\n",
    "        try: \n",
    "            driver.find_element_by_xpath(\"//*[@id='fcxH9b']/div[4]/c-wiz[2]/div/div[2]/div/div/main/div/div[1]/div[2]/div[2]/div\").click()\n",
    "        except NoSuchElementException:\n",
    "            pass"
   ]
  },
  {
   "cell_type": "code",
   "execution_count": 15,
   "metadata": {},
   "outputs": [],
   "source": [
    "# Click all 'Full Review' Buttons\n",
    "def click_fullReviews():\n",
    "    fullBtn = driver.find_elements_by_xpath(\"//button[@jsaction='click:TiglPc']\")\n",
    "\n",
    "    for btn in fullBtn:\n",
    "        driver.execute_script(\"arguments[0].click();\", btn)"
   ]
  },
  {
   "cell_type": "code",
   "execution_count": 16,
   "metadata": {},
   "outputs": [],
   "source": [
    "# Crawl review datas \n",
    "def crawl_reviews():\n",
    "    doc = BeautifulSoup(driver.page_source, \"html.parser\")\n",
    "\n",
    "    n = doc.find_all(class_ = \"X43Kjb\")\n",
    "    names.extend([temp.text for temp in n[4:targetCnt+4]])\n",
    "\n",
    "    d = doc.find_all(class_ = \"p2TkOb\")\n",
    "    dates.extend([temp.text for temp in d[4:targetCnt+4]])\n",
    "\n",
    "    r = driver.find_elements_by_xpath(\"//span[@class='nt2C1d']/div[@class='pf5lIe']/div[@role='img']\")\n",
    "    for temp in r[4:targetCnt+4]:\n",
    "        ratings.append(int(re.findall('\\d', temp.get_attribute('aria-label'))[0]))\n",
    "\n",
    "    uv = doc.find_all(class_ = \"jUL89d y92BAb\")\n",
    "    upVotes.extend([int(temp.text) for temp in uv[4:targetCnt+4]])\n",
    "\n",
    "    lc = driver.find_elements_by_xpath(\"//span[contains(@jsname, 'fbQN7e')]\")\n",
    "    sc = driver.find_elements_by_xpath(\"//span[contains(@jsname, 'bN97Pc')]\")\n",
    "    \n",
    "    del lc[0:4]\n",
    "    del sc[0:4]\n",
    "    \n",
    "    comments.extend([t.text if t.text != '' else lc[i].text for i, t in enumerate(sc[0:targetCnt])])"
   ]
  },
  {
   "cell_type": "code",
   "execution_count": 17,
   "metadata": {},
   "outputs": [],
   "source": [
    "# Start crawling with pre-defined functions\n",
    "for i in range(0, 2):\n",
    "    driver.get(urls[i])\n",
    "    crawl_basicInfo()\n",
    "    click_readMore()\n",
    "    load_reviews()\n",
    "    click_fullReviews()\n",
    "    crawl_reviews()"
   ]
  },
  {
   "cell_type": "code",
   "execution_count": 18,
   "metadata": {},
   "outputs": [],
   "source": [
    "# DataFrame with ZOOM and Teams' overview information\n",
    "df_overview = pd.DataFrame({\"Title\":app_titles,\n",
    "                            \"Category\":app_categories,\n",
    "                            \"Developer\":app_developers,\n",
    "                            \"Rating\":app_ratings,\n",
    "                            \"# of Reviews\":app_reviewCnts,\n",
    "                            \"# of Downloads\":app_downloads,\n",
    "                            \"Last Update\":app_lastUpdates})"
   ]
  },
  {
   "cell_type": "code",
   "execution_count": 19,
   "metadata": {
    "scrolled": true
   },
   "outputs": [
    {
     "data": {
      "text/html": [
       "<div>\n",
       "<style scoped>\n",
       "    .dataframe tbody tr th:only-of-type {\n",
       "        vertical-align: middle;\n",
       "    }\n",
       "\n",
       "    .dataframe tbody tr th {\n",
       "        vertical-align: top;\n",
       "    }\n",
       "\n",
       "    .dataframe thead th {\n",
       "        text-align: right;\n",
       "    }\n",
       "</style>\n",
       "<table border=\"1\" class=\"dataframe\">\n",
       "  <thead>\n",
       "    <tr style=\"text-align: right;\">\n",
       "      <th></th>\n",
       "      <th>Title</th>\n",
       "      <th>Category</th>\n",
       "      <th>Developer</th>\n",
       "      <th>Rating</th>\n",
       "      <th># of Reviews</th>\n",
       "      <th># of Downloads</th>\n",
       "      <th>Last Update</th>\n",
       "    </tr>\n",
       "  </thead>\n",
       "  <tbody>\n",
       "    <tr>\n",
       "      <th>0</th>\n",
       "      <td>ZOOM Cloud Meetings</td>\n",
       "      <td>zoom.us</td>\n",
       "      <td>Business</td>\n",
       "      <td>3.9</td>\n",
       "      <td>2458790</td>\n",
       "      <td>500,000,000+</td>\n",
       "      <td>May 25, 2021</td>\n",
       "    </tr>\n",
       "    <tr>\n",
       "      <th>1</th>\n",
       "      <td>Microsoft Teams</td>\n",
       "      <td>Microsoft Corporation</td>\n",
       "      <td>Business</td>\n",
       "      <td>4.1</td>\n",
       "      <td>3439984</td>\n",
       "      <td>100,000,000+</td>\n",
       "      <td>June 2, 2021</td>\n",
       "    </tr>\n",
       "  </tbody>\n",
       "</table>\n",
       "</div>"
      ],
      "text/plain": [
       "                 Title               Category Developer  Rating  # of Reviews  \\\n",
       "0  ZOOM Cloud Meetings                zoom.us  Business     3.9       2458790   \n",
       "1      Microsoft Teams  Microsoft Corporation  Business     4.1       3439984   \n",
       "\n",
       "  # of Downloads   Last Update  \n",
       "0   500,000,000+  May 25, 2021  \n",
       "1   100,000,000+  June 2, 2021  "
      ]
     },
     "execution_count": 19,
     "metadata": {},
     "output_type": "execute_result"
    }
   ],
   "source": [
    "df_overview"
   ]
  },
  {
   "cell_type": "code",
   "execution_count": 20,
   "metadata": {},
   "outputs": [],
   "source": [
    "# Seperate DataFrames for user reviews of  ZOOM and Teams\n",
    "doubleCnt = targetCnt * 2;"
   ]
  },
  {
   "cell_type": "code",
   "execution_count": 21,
   "metadata": {},
   "outputs": [],
   "source": [
    "df_zoom = pd.DataFrame({\"Reviewer\":names[0:targetCnt],\n",
    "                          \"Date\":dates[0:targetCnt],\n",
    "                          \"Rating\":ratings[0:targetCnt],\n",
    "                          \"UpVote\":upVotes[0:targetCnt],\n",
    "                          \"Comment\":comments[0:targetCnt]})"
   ]
  },
  {
   "cell_type": "code",
   "execution_count": 22,
   "metadata": {},
   "outputs": [],
   "source": [
    "df_teams = pd.DataFrame({\"Reviewer\":names[targetCnt:doubleCnt],\n",
    "                          \"Date\":dates[targetCnt:doubleCnt],\n",
    "                          \"Rating\":ratings[targetCnt:doubleCnt],\n",
    "                          \"UpVote\":upVotes[targetCnt:doubleCnt],\n",
    "                          \"Comment\":comments[targetCnt:doubleCnt]})"
   ]
  },
  {
   "cell_type": "code",
   "execution_count": 23,
   "metadata": {},
   "outputs": [
    {
     "data": {
      "image/png": "[encoded data removed]",
      "text/plain": [
       "<Figure size 432x288 with 1 Axes>"
      ]
     },
     "metadata": {
      "needs_background": "light"
     },
     "output_type": "display_data"
    }
   ],
   "source": [
    "plt.bar(['ZOOM', 'Microsoft Teams'], [len(df_zoom.index), len(df_teams.index)], color='Red', alpha=0.4)\n",
    "plt.title(\"Number of Reviews by Application\", fontsize=15)\n",
    "plt.ylabel('Review Counts', fontsize=13)\n",
    "plt.show()"
   ]
  },
  {
   "cell_type": "markdown",
   "metadata": {},
   "source": [
    "## 02. Sentiment Analysis"
   ]
  },
  {
   "cell_type": "code",
   "execution_count": 24,
   "metadata": {},
   "outputs": [],
   "source": [
    "vader = SentimentIntensityAnalyzer()"
   ]
  },
  {
   "cell_type": "code",
   "execution_count": 25,
   "metadata": {},
   "outputs": [],
   "source": [
    "comments_token = []\n",
    "for c in comments:\n",
    "    c1 = word_tokenize(c)\n",
    "    c2 = [w for w in c1 if w.isalpha()]\n",
    "    c3 = \" \".join(c2)\n",
    "    comments_token.append(c3)"
   ]
  },
  {
   "cell_type": "code",
   "execution_count": 26,
   "metadata": {},
   "outputs": [],
   "source": [
    "sentiments = [vader.polarity_scores(comments_token[n])[\"compound\"] for n in range(0, len(comments))]"
   ]
  },
  {
   "cell_type": "code",
   "execution_count": 27,
   "metadata": {},
   "outputs": [],
   "source": [
    "df_zoom[\"Sentiment\"] = sentiments[0:targetCnt]\n",
    "df_teams[\"Sentiment\"] = sentiments[targetCnt:doubleCnt]"
   ]
  },
  {
   "cell_type": "code",
   "execution_count": 28,
   "metadata": {
    "scrolled": true
   },
   "outputs": [
    {
     "data": {
      "image/png": "[encoded data removed]",
      "text/plain": [
       "<Figure size 936x360 with 2 Axes>"
      ]
     },
     "metadata": {
      "needs_background": "light"
     },
     "output_type": "display_data"
    }
   ],
   "source": [
    "plt.figure(figsize=(13, 5))\n",
    "\n",
    "plt.subplot(121)\n",
    "plt.title(\"Scatter Plot: Rating vs. Sentiment (ZOOM)\", fontsize=15)\n",
    "plt.scatter(df_zoom[\"Rating\"], df_zoom[\"Sentiment\"], c=df_zoom[\"Sentiment\"], cmap=\"coolwarm\")\n",
    "plt.xlabel(\"Rating Score\", fontsize=13)\n",
    "plt.ylabel(\"Sentiment Score\", fontsize=13)\n",
    "\n",
    "plt.subplot(122)\n",
    "plt.title(\"Scatter Plot: Rating vs. Sentiment (Teams)\", fontsize=15)\n",
    "plt.scatter(df_teams[\"Rating\"], df_teams[\"Sentiment\"], c=df_teams[\"Sentiment\"], cmap=\"coolwarm\")\n",
    "plt.xlabel(\"Rating Score\", fontsize=13)\n",
    "plt.ylabel(\"Sentiment Score\", fontsize=13)\n",
    "plt.show()"
   ]
  },
  {
   "cell_type": "markdown",
   "metadata": {},
   "source": [
    "* **As seen above, Rating Scores DOES NOT CORRESPOND to the Sentiment Scores**   \n",
    "* **Therefore, we'll only use 'Rating' as the criterion for positive/negative review categorization**"
   ]
  },
  {
   "cell_type": "markdown",
   "metadata": {},
   "source": [
    "## 02. Preprocessing "
   ]
  },
  {
   "cell_type": "markdown",
   "metadata": {},
   "source": [
    "* **'Ratings below or above 3' -> 'negative or postive review groups'.**\n",
    "* **Only use reviews with 'UpVotes >= 5' to sort out less significant ones.**"
   ]
  },
  {
   "cell_type": "code",
   "execution_count": 52,
   "metadata": {},
   "outputs": [],
   "source": [
    "df_zoom_pos = df_zoom.loc[(df_zoom['UpVote']>=5) & (df_zoom['Rating']>3)]\n",
    "df_teams_pos = df_teams.loc[(df_teams['UpVote']>=5) & (df_teams['Rating']>3)]\n",
    "df_zoom_neg = df_zoom.loc[(df_zoom['UpVote']>=5) & (df_zoom['Rating']<3)]\n",
    "df_teams_neg = df_teams.loc[(df_teams['UpVote']>=5) & (df_teams['Rating']<3)]"
   ]
  },
  {
   "cell_type": "code",
   "execution_count": 55,
   "metadata": {},
   "outputs": [],
   "source": [
    "comment_category = [\"Zoom_Positive\", \"Teams_Positive\", \"Zoom_Negative\", \"Teams_Negative\"]\n",
    "comment_groupCnt = [len(df_zoom_pos.index), len(df_teams_pos.index), len(df_zoom_neg.index), len(df_teams_neg.index)]"
   ]
  },
  {
   "cell_type": "code",
   "execution_count": 56,
   "metadata": {},
   "outputs": [
    {
     "data": {
      "image/png": "[encoded data removed]",
      "text/plain": [
       "<Figure size 432x288 with 1 Axes>"
      ]
     },
     "metadata": {
      "needs_background": "light"
     },
     "output_type": "display_data"
    }
   ],
   "source": [
    "plt.bar(comment_category, comment_groupCnt, color='Green', alpha=0.4)\n",
    "plt.title(\"Number of Reviews by Category\", fontsize=15)\n",
    "plt.xlabel('Review Groups', fontsize=13)\n",
    "plt.xticks(comment_category, fontsize=10, rotation=90)\n",
    "plt.ylabel('Review Counts', fontsize=13)\n",
    "plt.show()"
   ]
  },
  {
   "cell_type": "code",
   "execution_count": 187,
   "metadata": {},
   "outputs": [],
   "source": [
    "sklearn_stopwords = text.ENGLISH_STOP_WORDS\n",
    "zoom_stopwords = {'zoom', 'app', 'just', 'like', 'apps', 'thing', 'make', \"use\", \"know\", \"recommend\", \"experience\", \"able\", \"possible\",\n",
    "                'want', 'good', 'times', 'keka', 've', 'take', 'really', 'try', 'meeting', 'work', 'option', 'feature', 'use', 'people'}\n",
    "teams_stopwords = {'teams', 'app', 'just', 'like', 'apps', 'thing', 'make', \"use\", \"know\", \"recommend\", \"experience\", \"able\", \"possible\",\n",
    "                    'want', 'good', 'star', 'microsoft', 'take', 'gets', 'times', 'have', 'get', 've', 'take', 'lot', 'try', 'meeting', \n",
    "                    'work', 'option', 'feature', 'use', 'people', 'issue', 'day', 'really', 'use', 'using'}\n",
    "zoom_new_stopwords = sklearn_stopwords.union(zoom_stopwords)\n",
    "teams_new_stopwords = sklearn_stopwords.union(teams_stopwords)"
   ]
  },
  {
   "cell_type": "markdown",
   "metadata": {},
   "source": [
    "* **For pre-processing, we'll use 'TF-IDF Vectorizer' & 'Lemmatisation'. Since we are mainly using clustering for analysis.** "
   ]
  },
  {
   "cell_type": "code",
   "execution_count": 188,
   "metadata": {},
   "outputs": [],
   "source": [
    "tfidf1_zoom = TfidfVectorizer(lowercase=True, stop_words=zoom_new_stopwords).build_analyzer()\n",
    "tfidf1_teams = TfidfVectorizer(lowercase=True, stop_words=teams_new_stopwords).build_analyzer()\n",
    "lem = WordNetLemmatizer()"
   ]
  },
  {
   "cell_type": "code",
   "execution_count": 189,
   "metadata": {},
   "outputs": [],
   "source": [
    "def get_pos(w):\n",
    "    tag = pos_tag([w])[0][1][0].upper()\n",
    "    tag_dict = {\"J\":wordnet.ADJ,\n",
    "                \"N\":wordnet.NOUN,\n",
    "                \"V\":wordnet.VERB,\n",
    "                \"R\":wordnet.ADV}\n",
    "    return tag_dict.get(tag, wordnet.NOUN)"
   ]
  },
  {
   "cell_type": "code",
   "execution_count": 190,
   "metadata": {},
   "outputs": [],
   "source": [
    "def lemmatizer_zoom(x):\n",
    "    return (lem.lemmatize(w, get_pos(w)) for w in tfidf1_zoom(x))\n",
    "\n",
    "def lemmatizer_teams(x):\n",
    "    return (lem.lemmatize(w, get_pos(w)) for w in tfidf1_teams(x))"
   ]
  },
  {
   "cell_type": "code",
   "execution_count": 191,
   "metadata": {},
   "outputs": [],
   "source": [
    "tfidf2_zoom = TfidfVectorizer(analyzer=lemmatizer_zoom)\n",
    "tfidf2_teams = TfidfVectorizer(analyzer=lemmatizer_teams)"
   ]
  },
  {
   "cell_type": "code",
   "execution_count": 192,
   "metadata": {},
   "outputs": [],
   "source": [
    "tfidf_comments_zoom_pos = tfidf2_zoom.fit_transform(df_zoom_pos[\"Comment\"])\n",
    "tfidf_terms_zoom_pos = tfidf2_zoom.get_feature_names()\n",
    "tfidf_comments_teams_pos = tfidf2_teams.fit_transform(df_teams_pos[\"Comment\"])\n",
    "tfidf_terms_teams_pos = tfidf2_teams.get_feature_names()\n",
    "\n",
    "tfidf_comments_zoom_neg = tfidf2_zoom.fit_transform(df_zoom_neg[\"Comment\"])\n",
    "tfidf_terms_zoom_neg = tfidf2_zoom.get_feature_names()\n",
    "tfidf_comments_teams_neg = tfidf2_teams.fit_transform(df_teams_neg[\"Comment\"])\n",
    "tfidf_terms_teams_neg = tfidf2_teams.get_feature_names()"
   ]
  },
  {
   "cell_type": "code",
   "execution_count": 193,
   "metadata": {},
   "outputs": [],
   "source": [
    "comment_vector_zoom_pos = pd.DataFrame(tfidf_comments_zoom_pos.toarray(), columns=tfidf_terms_zoom_pos)\n",
    "comment_vector_zoom_pos.index = df_zoom_pos[\"Comment\"]\n",
    "comment_vector_teams_pos = pd.DataFrame(tfidf_comments_teams_pos.toarray(), columns=tfidf_terms_teams_pos)\n",
    "comment_vector_teams_pos.index = df_teams_pos[\"Comment\"]\n",
    "\n",
    "comment_vector_zoom_neg = pd.DataFrame(tfidf_comments_zoom_neg.toarray(), columns=tfidf_terms_zoom_neg)\n",
    "comment_vector_zoom_neg.index = df_zoom_neg[\"Comment\"]\n",
    "comment_vector_teams_neg = pd.DataFrame(tfidf_comments_teams_neg.toarray(), columns=tfidf_terms_teams_neg)\n",
    "comment_vector_teams_neg.index = df_teams_neg[\"Comment\"]"
   ]
  },
  {
   "cell_type": "markdown",
   "metadata": {},
   "source": [
    "## 03. Clustering "
   ]
  },
  {
   "cell_type": "markdown",
   "metadata": {},
   "source": [
    "* **To decide the number of clusters, we'll try using 'the elbow method'.** "
   ]
  },
  {
   "cell_type": "code",
   "execution_count": 194,
   "metadata": {},
   "outputs": [],
   "source": [
    "distance = []\n",
    "\n",
    "K = range(1, 6)\n",
    "\n",
    "for x in K:\n",
    "    km_n = KMeans(n_clusters=x, random_state=0)\n",
    "    km_fit = km_n.fit(tfidf_comments_zoom_pos)\n",
    "    num = km_fit.inertia_\n",
    "    distance.append(num)\n",
    "    \n",
    "for x in K:\n",
    "    km_n = KMeans(n_clusters=x, random_state=0)\n",
    "    km_fit = km_n.fit(tfidf_comments_teams_pos)\n",
    "    num = km_fit.inertia_\n",
    "    distance.append(num)\n",
    "    \n",
    "for x in K:\n",
    "    km_n = KMeans(n_clusters=x, random_state=0)\n",
    "    km_fit = km_n.fit(tfidf_comments_zoom_neg)\n",
    "    num = km_fit.inertia_\n",
    "    distance.append(num)\n",
    "    \n",
    "for x in K:\n",
    "    km_n = KMeans(n_clusters=x, random_state=0)\n",
    "    km_fit = km_n.fit(tfidf_comments_teams_neg)\n",
    "    num = km_fit.inertia_\n",
    "    distance.append(num)"
   ]
  },
  {
   "cell_type": "code",
   "execution_count": 195,
   "metadata": {},
   "outputs": [
    {
     "data": {
      "image/png": "[encoded data removed]",
      "text/plain": [
       "<Figure size 1080x1080 with 4 Axes>"
      ]
     },
     "metadata": {
      "needs_background": "light"
     },
     "output_type": "display_data"
    }
   ],
   "source": [
    "plt.figure(figsize=(15, 15))\n",
    "\n",
    "plt.subplot(221)\n",
    "plt.title(\"ZOOM: Positive Reviews\", fontsize=15)\n",
    "plt.plot(K, distance[0:K[-1]])\n",
    "\n",
    "plt.subplot(222)\n",
    "plt.title(\"Teams: Positive Reviews\", fontsize=15)\n",
    "plt.plot(K, distance[K[-1]:K[-1]*2])\n",
    "\n",
    "plt.subplot(223)\n",
    "plt.title(\"ZOOM: Negative Reviews\", fontsize=15)\n",
    "plt.plot(K, distance[K[-1]*2:K[-1]*3])\n",
    "\n",
    "plt.subplot(224)\n",
    "plt.title(\"Teams: Negative Reviews\", fontsize=15)\n",
    "plt.plot(K, distance[K[-1]*3:K[-1]*4])\n",
    "\n",
    "plt.show()"
   ]
  },
  {
   "cell_type": "markdown",
   "metadata": {},
   "source": [
    "* **Unfortunately, there aren't any siginicant 'bumps'.**    \n",
    "* **However, all four groups share small curves around '4', which is where we'll start.**"
   ]
  },
  {
   "cell_type": "code",
   "execution_count": 196,
   "metadata": {},
   "outputs": [
    {
     "data": {
      "text/plain": [
       "KMeans(n_clusters=3, random_state=0)"
      ]
     },
     "execution_count": 196,
     "metadata": {},
     "output_type": "execute_result"
    }
   ],
   "source": [
    "clusterCnt = 3\n",
    "\n",
    "km_zoom_pos = KMeans(n_clusters=clusterCnt, random_state=0)\n",
    "km_zoom_pos.fit(tfidf_comments_zoom_pos)\n",
    "\n",
    "km_teams_pos = KMeans(n_clusters=clusterCnt, random_state=0)\n",
    "km_teams_pos.fit(tfidf_comments_teams_pos)\n",
    "\n",
    "km_zoom_neg = KMeans(n_clusters=clusterCnt, random_state=0)\n",
    "km_zoom_neg.fit(tfidf_comments_zoom_neg)\n",
    "\n",
    "km_teams_neg = KMeans(n_clusters=clusterCnt, random_state=0)\n",
    "km_teams_neg.fit(tfidf_comments_teams_neg)"
   ]
  },
  {
   "cell_type": "code",
   "execution_count": 197,
   "metadata": {},
   "outputs": [
    {
     "name": "stderr",
     "output_type": "stream",
     "text": [
      "<ipython-input-197-76155d38ca4c>:2: SettingWithCopyWarning: \n",
      "A value is trying to be set on a copy of a slice from a DataFrame.\n",
      "Try using .loc[row_indexer,col_indexer] = value instead\n",
      "\n",
      "See the caveats in the documentation: https://pandas.pydata.org/pandas-docs/stable/user_guide/indexing.html#returning-a-view-versus-a-copy\n",
      "  df_zoom_pos[\"Cluster\"] = clusters\n",
      "<ipython-input-197-76155d38ca4c>:5: SettingWithCopyWarning: \n",
      "A value is trying to be set on a copy of a slice from a DataFrame.\n",
      "Try using .loc[row_indexer,col_indexer] = value instead\n",
      "\n",
      "See the caveats in the documentation: https://pandas.pydata.org/pandas-docs/stable/user_guide/indexing.html#returning-a-view-versus-a-copy\n",
      "  df_teams_pos[\"Cluster\"] = clusters\n",
      "<ipython-input-197-76155d38ca4c>:8: SettingWithCopyWarning: \n",
      "A value is trying to be set on a copy of a slice from a DataFrame.\n",
      "Try using .loc[row_indexer,col_indexer] = value instead\n",
      "\n",
      "See the caveats in the documentation: https://pandas.pydata.org/pandas-docs/stable/user_guide/indexing.html#returning-a-view-versus-a-copy\n",
      "  df_zoom_neg[\"Cluster\"] = clusters\n",
      "<ipython-input-197-76155d38ca4c>:11: SettingWithCopyWarning: \n",
      "A value is trying to be set on a copy of a slice from a DataFrame.\n",
      "Try using .loc[row_indexer,col_indexer] = value instead\n",
      "\n",
      "See the caveats in the documentation: https://pandas.pydata.org/pandas-docs/stable/user_guide/indexing.html#returning-a-view-versus-a-copy\n",
      "  df_teams_neg[\"Cluster\"] = clusters\n"
     ]
    }
   ],
   "source": [
    "clusters = km_zoom_pos.labels_.tolist()\n",
    "df_zoom_pos[\"Cluster\"] = clusters\n",
    "\n",
    "clusters = km_teams_pos.labels_.tolist()\n",
    "df_teams_pos[\"Cluster\"] = clusters\n",
    "\n",
    "clusters = km_zoom_neg.labels_.tolist()\n",
    "df_zoom_neg[\"Cluster\"] = clusters\n",
    "\n",
    "clusters = km_teams_neg.labels_.tolist()\n",
    "df_teams_neg[\"Cluster\"] = clusters"
   ]
  },
  {
   "cell_type": "markdown",
   "metadata": {},
   "source": [
    "## 04. Most common/relevant words for each cluster"
   ]
  },
  {
   "cell_type": "code",
   "execution_count": 198,
   "metadata": {},
   "outputs": [],
   "source": [
    "pd.set_option('display.max_colwidth', None)"
   ]
  },
  {
   "cell_type": "code",
   "execution_count": 199,
   "metadata": {},
   "outputs": [],
   "source": [
    "oc_zoom_pos = km_zoom_pos.cluster_centers_.argsort()[:, ::-1]\n",
    "oc_teams_pos = km_teams_pos.cluster_centers_.argsort()[:, ::-1]\n",
    "\n",
    "oc_zoom_neg = km_zoom_neg.cluster_centers_.argsort()[:, ::-1]\n",
    "oc_teams_neg = km_teams_neg.cluster_centers_.argsort()[:, ::-1]"
   ]
  },
  {
   "cell_type": "code",
   "execution_count": 200,
   "metadata": {
    "scrolled": true
   },
   "outputs": [],
   "source": [
    "topWordCnt = 10\n",
    "topWords_zoom_pos, topWords_teams_pos, topWords_zoom_neg, topWords_teams_neg = [], [], [], []\n",
    "\n",
    "for i in range(0, clusterCnt):\n",
    "    topWords_zoom_pos.append([tfidf_terms_zoom_pos[x] for x in oc_zoom_pos[i, :topWordCnt]])\n",
    "    topWords_teams_pos.append([tfidf_terms_teams_pos[x] for x in oc_teams_pos[i, :topWordCnt]])\n",
    "    \n",
    "    topWords_zoom_neg.append([tfidf_terms_zoom_neg[x] for x in oc_zoom_neg[i, :topWordCnt]])\n",
    "    topWords_teams_neg.append([tfidf_terms_teams_neg[x] for x in oc_teams_neg[i, :topWordCnt]])"
   ]
  },
  {
   "cell_type": "markdown",
   "metadata": {},
   "source": [
    "* **ZOOM: Positive Reviews**"
   ]
  },
  {
   "cell_type": "markdown",
   "metadata": {},
   "source": [
    "* Cluster 1: Simple to use. Consistant connection. Easy interface. Great for meetings.\n",
    "* Cluster 2: Helpful for online classrooms, for both teachers and students. \n",
    "* Cluster 3: Poor virtual background support on Android devices."
   ]
  },
  {
   "cell_type": "code",
   "execution_count": 201,
   "metadata": {
    "scrolled": false
   },
   "outputs": [
    {
     "name": "stdout",
     "output_type": "stream",
     "text": [
      "['meeting', 'great', 'use', 'video', 'easy', 'time', 'way', 'meet', 'connect', 'best']\n",
      "['class', 'online', 'amaze', 'learn', 'easy', 'meeting', 'helpful', 'teacher', 'student', 'love']\n",
      "['background', 'screen', 'star', 'problem', 'android', 'nice', 'virtual', 'share', 'phone', 'fix']\n"
     ]
    },
    {
     "data": {
      "text/html": [
       "<div>\n",
       "<style scoped>\n",
       "    .dataframe tbody tr th:only-of-type {\n",
       "        vertical-align: middle;\n",
       "    }\n",
       "\n",
       "    .dataframe tbody tr th {\n",
       "        vertical-align: top;\n",
       "    }\n",
       "\n",
       "    .dataframe thead th {\n",
       "        text-align: right;\n",
       "    }\n",
       "</style>\n",
       "<table border=\"1\" class=\"dataframe\">\n",
       "  <thead>\n",
       "    <tr style=\"text-align: right;\">\n",
       "      <th></th>\n",
       "      <th>Reviewer</th>\n",
       "      <th>Date</th>\n",
       "      <th>Rating</th>\n",
       "      <th>UpVote</th>\n",
       "      <th>Comment</th>\n",
       "      <th>Sentiment</th>\n",
       "      <th>Cluster</th>\n",
       "    </tr>\n",
       "  </thead>\n",
       "  <tbody>\n",
       "    <tr>\n",
       "      <th>317</th>\n",
       "      <td>Kate Marin</td>\n",
       "      <td>April 8, 2021</td>\n",
       "      <td>4</td>\n",
       "      <td>1882</td>\n",
       "      <td>Amazing to interact at such distance. Controls not particularly intuitive (mic, views of others, chat), w resulting frequent hunts for controls &amp; content screen. Prefer a controls option on all screens, visible/not visible by my choice. Also want to be able to choose which screen is always visible, &amp; which/ how many others are next to the always-on screen. Switching to find the current speaker, back to content, etc. really infringes on natural interchange. Glad Zoom exists, tho!</td>\n",
       "      <td>0.8709</td>\n",
       "      <td>2</td>\n",
       "    </tr>\n",
       "    <tr>\n",
       "      <th>251</th>\n",
       "      <td>Aryman Pathak 9th 'B'</td>\n",
       "      <td>April 24, 2021</td>\n",
       "      <td>4</td>\n",
       "      <td>1793</td>\n",
       "      <td>This app is very good. I could have given it a 5-star rating if it not had been for one thing. Whenever we join a meeting on a mobile device, it always asks for our meeting name when we join the meeting and it has started, even after we have entered our name while entering the meeting ID. I request you to pls remove this feature.</td>\n",
       "      <td>0.7841</td>\n",
       "      <td>2</td>\n",
       "    </tr>\n",
       "    <tr>\n",
       "      <th>248</th>\n",
       "      <td>Kanishk Saha</td>\n",
       "      <td>April 23, 2021</td>\n",
       "      <td>5</td>\n",
       "      <td>1534</td>\n",
       "      <td>Good app. It is very useful more as I really do love this app! It has everything I needed. Just, this needs a update which is loss for you but if you not make the update it is also fine for me. You have made that 3 participants ( including host ) and it ends after 40 minutes. It is annoying and we need to rejoin. Please do fix and make it unlimited. The special feature is not adverts. Thanks for a great app, wishing you a happy day ahead!! THANK YOU FOR A GREAT APP. MY DREAM WAS TO GET THIS APP.</td>\n",
       "      <td>0.9890</td>\n",
       "      <td>2</td>\n",
       "    </tr>\n",
       "    <tr>\n",
       "      <th>486</th>\n",
       "      <td>Shital Gavhankar</td>\n",
       "      <td>April 30, 2021</td>\n",
       "      <td>4</td>\n",
       "      <td>1469</td>\n",
       "      <td>App is superb no doubt but need to improve there are loop holes being teacher it is difficult some time audio issue some ,and unmute system should be improved with new idea , background should allow from mobile also please I hope app will go further and will fulfill our expectations,I am daily user of this app . request you to change as soon as possible</td>\n",
       "      <td>0.9581</td>\n",
       "      <td>2</td>\n",
       "    </tr>\n",
       "    <tr>\n",
       "      <th>0</th>\n",
       "      <td>Anushka K</td>\n",
       "      <td>May 31, 2021</td>\n",
       "      <td>4</td>\n",
       "      <td>1464</td>\n",
       "      <td>It's a really good app. I do really appreciate it. And would love to recommend it to everyone. Just couldn't give all 5 stars because 2 main features I wanted to use wasn't accessible for me. 1. Virtual background enhancement(I use Redmi note 9). 2. Recording feature(please do consider that not everyone is well equipped with laptops and others facilities so please do allow that features to be used in android phones too. It might be very much useful for teachers like me.)</td>\n",
       "      <td>0.9702</td>\n",
       "      <td>2</td>\n",
       "    </tr>\n",
       "    <tr>\n",
       "      <th>34</th>\n",
       "      <td>Allana Erispe</td>\n",
       "      <td>May 28, 2021</td>\n",
       "      <td>5</td>\n",
       "      <td>733</td>\n",
       "      <td>This is a good app for meetings but the only problem is that the virtual background doesn't support all devices. I suggests that the developer/s of this app should improve the virtual background by supporting all version of the devices because not all of the people can afford to buy high end devices.</td>\n",
       "      <td>0.8641</td>\n",
       "      <td>2</td>\n",
       "    </tr>\n",
       "    <tr>\n",
       "      <th>186</th>\n",
       "      <td>Matthew McCormac</td>\n",
       "      <td>May 14, 2021</td>\n",
       "      <td>4</td>\n",
       "      <td>684</td>\n",
       "      <td>Works great except the following two bugs which drive me mad: 1. I have zoom installed both on my android phone and windows laptop. Once I answer on the windows laptop, the notification continues until I hit decline on the android phone 2. When I make a regular cellular phonecall on my android phone, zoom call notification plays really loud in my ear when I'm on the cellular call.</td>\n",
       "      <td>0.4404</td>\n",
       "      <td>2</td>\n",
       "    </tr>\n",
       "    <tr>\n",
       "      <th>282</th>\n",
       "      <td>Davin Lassiter</td>\n",
       "      <td>April 15, 2021</td>\n",
       "      <td>4</td>\n",
       "      <td>663</td>\n",
       "      <td>Add some Samsung Dex support so I don't have to switch between mirror mode and desktop mode, and a clearer process with screen sharing, and it would be closer a five-star app; it works so differently than how it does on my desktop (Linux mint 19.1), but now that I've gotten the hang of it it's, actually a better experience than I originally thought.</td>\n",
       "      <td>0.7650</td>\n",
       "      <td>2</td>\n",
       "    </tr>\n",
       "    <tr>\n",
       "      <th>313</th>\n",
       "      <td>Val Havard</td>\n",
       "      <td>April 2, 2021</td>\n",
       "      <td>5</td>\n",
       "      <td>494</td>\n",
       "      <td>Zoom is Great for our family quizzes when there are 4 devices apart from mine. I miss out with larger gatherings as I can only see up to 4 devices on my tablet's screen, I then decide to see the speaker view. Zoom is Far better than another meeting app I used as you can choose the speaker view, and it's very easy to adjust settings if you want to join without audio or video. Everything is straightforward. I just wish I could opt to see chat information on the screen without losing the picture.</td>\n",
       "      <td>0.9430</td>\n",
       "      <td>2</td>\n",
       "    </tr>\n",
       "    <tr>\n",
       "      <th>216</th>\n",
       "      <td>Megan Reeder</td>\n",
       "      <td>May 10, 2021</td>\n",
       "      <td>4</td>\n",
       "      <td>382</td>\n",
       "      <td>Zoom is great overall, but the fact that you can only view 4 people tiles per page during a meeting is very annoying. Though 4 per page makes sense on a smaller phone, more and more people are using tablets as computers these days. I hope there is a tablet option soon in the settings that will allow many more tile options per page.</td>\n",
       "      <td>0.5804</td>\n",
       "      <td>2</td>\n",
       "    </tr>\n",
       "  </tbody>\n",
       "</table>\n",
       "</div>"
      ],
      "text/plain": [
       "                  Reviewer            Date  Rating  UpVote  \\\n",
       "317             Kate Marin   April 8, 2021       4    1882   \n",
       "251  Aryman Pathak 9th 'B'  April 24, 2021       4    1793   \n",
       "248           Kanishk Saha  April 23, 2021       5    1534   \n",
       "486       Shital Gavhankar  April 30, 2021       4    1469   \n",
       "0                Anushka K    May 31, 2021       4    1464   \n",
       "34           Allana Erispe    May 28, 2021       5     733   \n",
       "186       Matthew McCormac    May 14, 2021       4     684   \n",
       "282         Davin Lassiter  April 15, 2021       4     663   \n",
       "313             Val Havard   April 2, 2021       5     494   \n",
       "216           Megan Reeder    May 10, 2021       4     382   \n",
       "\n",
       "                                                                                                                                                                                                                                                                                                                                                                                                                                                                                                                  Comment  \\\n",
       "317                   Amazing to interact at such distance. Controls not particularly intuitive (mic, views of others, chat), w resulting frequent hunts for controls & content screen. Prefer a controls option on all screens, visible/not visible by my choice. Also want to be able to choose which screen is always visible, & which/ how many others are next to the always-on screen. Switching to find the current speaker, back to content, etc. really infringes on natural interchange. Glad Zoom exists, tho!   \n",
       "251                                                                                                                                                                           This app is very good. I could have given it a 5-star rating if it not had been for one thing. Whenever we join a meeting on a mobile device, it always asks for our meeting name when we join the meeting and it has started, even after we have entered our name while entering the meeting ID. I request you to pls remove this feature.   \n",
       "248  Good app. It is very useful more as I really do love this app! It has everything I needed. Just, this needs a update which is loss for you but if you not make the update it is also fine for me. You have made that 3 participants ( including host ) and it ends after 40 minutes. It is annoying and we need to rejoin. Please do fix and make it unlimited. The special feature is not adverts. Thanks for a great app, wishing you a happy day ahead!! THANK YOU FOR A GREAT APP. MY DREAM WAS TO GET THIS APP.   \n",
       "486                                                                                                                                                   App is superb no doubt but need to improve there are loop holes being teacher it is difficult some time audio issue some ,and unmute system should be improved with new idea , background should allow from mobile also please I hope app will go further and will fulfill our expectations,I am daily user of this app . request you to change as soon as possible   \n",
       "0                             It's a really good app. I do really appreciate it. And would love to recommend it to everyone. Just couldn't give all 5 stars because 2 main features I wanted to use wasn't accessible for me. 1. Virtual background enhancement(I use Redmi note 9). 2. Recording feature(please do consider that not everyone is well equipped with laptops and others facilities so please do allow that features to be used in android phones too. It might be very much useful for teachers like me.)   \n",
       "34                                                                                                                                                                                                          This is a good app for meetings but the only problem is that the virtual background doesn't support all devices. I suggests that the developer/s of this app should improve the virtual background by supporting all version of the devices because not all of the people can afford to buy high end devices.   \n",
       "186                                                                                                                       Works great except the following two bugs which drive me mad: 1. I have zoom installed both on my android phone and windows laptop. Once I answer on the windows laptop, the notification continues until I hit decline on the android phone 2. When I make a regular cellular phonecall on my android phone, zoom call notification plays really loud in my ear when I'm on the cellular call.   \n",
       "282                                                                                                                                                       Add some Samsung Dex support so I don't have to switch between mirror mode and desktop mode, and a clearer process with screen sharing, and it would be closer a five-star app; it works so differently than how it does on my desktop (Linux mint 19.1), but now that I've gotten the hang of it it's, actually a better experience than I originally thought.   \n",
       "313    Zoom is Great for our family quizzes when there are 4 devices apart from mine. I miss out with larger gatherings as I can only see up to 4 devices on my tablet's screen, I then decide to see the speaker view. Zoom is Far better than another meeting app I used as you can choose the speaker view, and it's very easy to adjust settings if you want to join without audio or video. Everything is straightforward. I just wish I could opt to see chat information on the screen without losing the picture.   \n",
       "216                                                                                                                                                                         Zoom is great overall, but the fact that you can only view 4 people tiles per page during a meeting is very annoying. Though 4 per page makes sense on a smaller phone, more and more people are using tablets as computers these days. I hope there is a tablet option soon in the settings that will allow many more tile options per page.   \n",
       "\n",
       "     Sentiment  Cluster  \n",
       "317     0.8709        2  \n",
       "251     0.7841        2  \n",
       "248     0.9890        2  \n",
       "486     0.9581        2  \n",
       "0       0.9702        2  \n",
       "34      0.8641        2  \n",
       "186     0.4404        2  \n",
       "282     0.7650        2  \n",
       "313     0.9430        2  \n",
       "216     0.5804        2  "
      ]
     },
     "execution_count": 201,
     "metadata": {},
     "output_type": "execute_result"
    }
   ],
   "source": [
    "for i in range(0, clusterCnt):\n",
    "    print(topWords_zoom_pos[i])\n",
    "df_zoom_pos[df_zoom_pos[\"Cluster\"] == 2].sort_values('UpVote', ascending=False).head(10)"
   ]
  },
  {
   "cell_type": "markdown",
   "metadata": {},
   "source": [
    "* **Teams: Positive Reviews**"
   ]
  },
  {
   "cell_type": "markdown",
   "metadata": {},
   "source": [
    "* Cluster 1: Useful when working with large groups. \n",
    "* Cluster 2: Great synchronization between desktop & mobile. Compatability with office 365 applications. \n",
    "* Cluster 3: Continuous authentication issue at login. Unstable quality controls. "
   ]
  },
  {
   "cell_type": "code",
   "execution_count": 206,
   "metadata": {
    "scrolled": false
   },
   "outputs": [
    {
     "name": "stdout",
     "output_type": "stream",
     "text": [
      "['work', 'love', 'online', 'well', 'group', 'great', 'chat', 'network', 'm', 'time']\n",
      "['desktop', 'meeting', 'chat', 'call', 'type', 'come', 'application', 'great', 'phone', 'message']\n",
      "['fix', 'update', 'log', 'upload', 'work', 'thank', 'stop', 'slow', 'try', 'solution']\n"
     ]
    },
    {
     "data": {
      "text/html": [
       "<div>\n",
       "<style scoped>\n",
       "    .dataframe tbody tr th:only-of-type {\n",
       "        vertical-align: middle;\n",
       "    }\n",
       "\n",
       "    .dataframe tbody tr th {\n",
       "        vertical-align: top;\n",
       "    }\n",
       "\n",
       "    .dataframe thead th {\n",
       "        text-align: right;\n",
       "    }\n",
       "</style>\n",
       "<table border=\"1\" class=\"dataframe\">\n",
       "  <thead>\n",
       "    <tr style=\"text-align: right;\">\n",
       "      <th></th>\n",
       "      <th>Reviewer</th>\n",
       "      <th>Date</th>\n",
       "      <th>Rating</th>\n",
       "      <th>UpVote</th>\n",
       "      <th>Comment</th>\n",
       "      <th>Sentiment</th>\n",
       "      <th>Cluster</th>\n",
       "    </tr>\n",
       "  </thead>\n",
       "  <tbody>\n",
       "    <tr>\n",
       "      <th>73</th>\n",
       "      <td>My Cinema</td>\n",
       "      <td>May 21, 2021</td>\n",
       "      <td>4</td>\n",
       "      <td>373</td>\n",
       "      <td>UPDATE Issue has been resolved so have updated from 1 to 4 stars. ------------ Same issue as many other users ... Continuous authentication. I have tried all the \"fixes\" suggested and none work. Microsoft now suggest waiting 60 seconds and the issue will clear. Waited 5 mins and still continuously authenticating. How about this as a suggestion - go back to the last know good version. (Advice offered free of charge!)</td>\n",
       "      <td>0.8591</td>\n",
       "      <td>2</td>\n",
       "    </tr>\n",
       "    <tr>\n",
       "      <th>990</th>\n",
       "      <td>Ridam Chaudhary</td>\n",
       "      <td>May 19, 2021</td>\n",
       "      <td>4</td>\n",
       "      <td>290</td>\n",
       "      <td>In current version, there is a bug where loading the app causes an endless loop of trying to reauthenticate, resulting in incessant flashing popup on the screen. Clearing the cache, data, and force stopping the app do not resolve the issue. It seems to be on the server end, and it's hit or miss whether I am able to use the app. Please address this issue and then reply to this, and I will update the rating. Thank you, and stay safe! Edit: Updated rating, per fix and reply. Thanks!</td>\n",
       "      <td>0.7364</td>\n",
       "      <td>2</td>\n",
       "    </tr>\n",
       "    <tr>\n",
       "      <th>288</th>\n",
       "      <td>Maanvendra Tiwari</td>\n",
       "      <td>May 28, 2021</td>\n",
       "      <td>4</td>\n",
       "      <td>69</td>\n",
       "      <td>Fantastic But uploading speed is slow. I know that it depends on internet but if we quit app it stops uploading and disappear from there ( image, file, etc.) If we see WhatsApp, if there also it uploads according to speed but if we quit app it doesn't stop and keeps uploading.</td>\n",
       "      <td>-0.5789</td>\n",
       "      <td>2</td>\n",
       "    </tr>\n",
       "    <tr>\n",
       "      <th>82</th>\n",
       "      <td>SS_Grace</td>\n",
       "      <td>May 30, 2021</td>\n",
       "      <td>5</td>\n",
       "      <td>37</td>\n",
       "      <td>Update: suddenly works again. Used to work flawlessly. However yesterday I was suddenly logged out from my work account. When I re-signed, I lose the ability to switch tenant and always back to my default tenant no matter which tenant I tapped. Tried clear data and even reinstall to no avail. Selecting \"Report an issue\" only preparing TeamsClientLog.zip in share popup, but whom does I share it to? Hopefully it's fixed ASAP so I can rate it back to 5 stars</td>\n",
       "      <td>0.7783</td>\n",
       "      <td>2</td>\n",
       "    </tr>\n",
       "    <tr>\n",
       "      <th>930</th>\n",
       "      <td>Joe McMullin</td>\n",
       "      <td>May 24, 2021</td>\n",
       "      <td>5</td>\n",
       "      <td>16</td>\n",
       "      <td>5/12 ... an update to the Microsoft Authenticator app solved this endless loop issue. Teams is now accessible again. Thank you! 5/10 ... still happening!! Oh my. The latest update is slow. It constantly attempts to load what appears to be a login or authorization window. Never stops .. endless loop! Clearing cache and app data or reinstall are the only solutions, but the problem returns within 24 hrs. Please fix .. I need this for work!!!!</td>\n",
       "      <td>0.3120</td>\n",
       "      <td>2</td>\n",
       "    </tr>\n",
       "    <tr>\n",
       "      <th>244</th>\n",
       "      <td>Yasashwini</td>\n",
       "      <td>May 20, 2021</td>\n",
       "      <td>5</td>\n",
       "      <td>11</td>\n",
       "      <td>Amazing software. Has totally revolutionised the way we work. Have been trying for years to persuade our boards to seek a solution like this. It is more inclusive and enables greater diversity as we no longer need to meet in person. We'll done to you all and thank you. Simon Payne</td>\n",
       "      <td>0.8860</td>\n",
       "      <td>2</td>\n",
       "    </tr>\n",
       "    <tr>\n",
       "      <th>167</th>\n",
       "      <td>Joshna Jos</td>\n",
       "      <td>May 31, 2021</td>\n",
       "      <td>5</td>\n",
       "      <td>10</td>\n",
       "      <td>Updated review: It worked after uninstalling and installing again. Previous Review: Unable to login to my account back after updates. Error : Can't downgrade database from version 237 to 223 SQLiteInjection &amp; RuntimeExceptionError on ActivityThread.callActivityOnStop method ActivityThread.java line number 4711 Happens when I am logging into my corporate account.</td>\n",
       "      <td>-0.3400</td>\n",
       "      <td>2</td>\n",
       "    </tr>\n",
       "    <tr>\n",
       "      <th>113</th>\n",
       "      <td>Andre Groenendijk</td>\n",
       "      <td>May 28, 2021</td>\n",
       "      <td>4</td>\n",
       "      <td>9</td>\n",
       "      <td>Much better, lighter and feature packed option than Skype for Business. Of course, this is a bigger solution with many integrations to Microsoft technologies like SharePoint or Planner. But for conferences and work chat it works much better in Android than S4B. Now, I can't say the same of the Windows app. Lately it is misbehaving with the android keyboard so I have to decrease the rating.</td>\n",
       "      <td>0.7845</td>\n",
       "      <td>2</td>\n",
       "    </tr>\n",
       "    <tr>\n",
       "      <th>144</th>\n",
       "      <td>Ahmed' s Videos and Vlogs</td>\n",
       "      <td>May 27, 2021</td>\n",
       "      <td>5</td>\n",
       "      <td>6</td>\n",
       "      <td>There is something wrong about the latest update. Signed in successfully but the synchronized process was taking forever that i couldn't use the app. Since i use this app for working purposes, please take a considerably amount of time to fix this. Thank you.</td>\n",
       "      <td>0.7791</td>\n",
       "      <td>2</td>\n",
       "    </tr>\n",
       "    <tr>\n",
       "      <th>150</th>\n",
       "      <td>Bill Lampert</td>\n",
       "      <td>May 19, 2021</td>\n",
       "      <td>4</td>\n",
       "      <td>6</td>\n",
       "      <td>Every time I don't open the app for a interval of 3-4 days, I am logged out. And I have to uninstall and again install the app every time I am logged out because it is not logging in again. Overall, the app is good. But please fix this issue.</td>\n",
       "      <td>0.6369</td>\n",
       "      <td>2</td>\n",
       "    </tr>\n",
       "  </tbody>\n",
       "</table>\n",
       "</div>"
      ],
      "text/plain": [
       "                      Reviewer          Date  Rating  UpVote  \\\n",
       "73                   My Cinema  May 21, 2021       4     373   \n",
       "990            Ridam Chaudhary  May 19, 2021       4     290   \n",
       "288          Maanvendra Tiwari  May 28, 2021       4      69   \n",
       "82                    SS_Grace  May 30, 2021       5      37   \n",
       "930               Joe McMullin  May 24, 2021       5      16   \n",
       "244                 Yasashwini  May 20, 2021       5      11   \n",
       "167                 Joshna Jos  May 31, 2021       5      10   \n",
       "113          Andre Groenendijk  May 28, 2021       4       9   \n",
       "144  Ahmed' s Videos and Vlogs  May 27, 2021       5       6   \n",
       "150               Bill Lampert  May 19, 2021       4       6   \n",
       "\n",
       "                                                                                                                                                                                                                                                                                                                                                                                                                                                                                                  Comment  \\\n",
       "73                                                                    UPDATE Issue has been resolved so have updated from 1 to 4 stars. ------------ Same issue as many other users ... Continuous authentication. I have tried all the \"fixes\" suggested and none work. Microsoft now suggest waiting 60 seconds and the issue will clear. Waited 5 mins and still continuously authenticating. How about this as a suggestion - go back to the last know good version. (Advice offered free of charge!)   \n",
       "990  In current version, there is a bug where loading the app causes an endless loop of trying to reauthenticate, resulting in incessant flashing popup on the screen. Clearing the cache, data, and force stopping the app do not resolve the issue. It seems to be on the server end, and it's hit or miss whether I am able to use the app. Please address this issue and then reply to this, and I will update the rating. Thank you, and stay safe! Edit: Updated rating, per fix and reply. Thanks!   \n",
       "288                                                                                                                                                                                                                 Fantastic But uploading speed is slow. I know that it depends on internet but if we quit app it stops uploading and disappear from there ( image, file, etc.) If we see WhatsApp, if there also it uploads according to speed but if we quit app it doesn't stop and keeps uploading.   \n",
       "82                            Update: suddenly works again. Used to work flawlessly. However yesterday I was suddenly logged out from my work account. When I re-signed, I lose the ability to switch tenant and always back to my default tenant no matter which tenant I tapped. Tried clear data and even reinstall to no avail. Selecting \"Report an issue\" only preparing TeamsClientLog.zip in share popup, but whom does I share it to? Hopefully it's fixed ASAP so I can rate it back to 5 stars   \n",
       "930                                           5/12 ... an update to the Microsoft Authenticator app solved this endless loop issue. Teams is now accessible again. Thank you! 5/10 ... still happening!! Oh my. The latest update is slow. It constantly attempts to load what appears to be a login or authorization window. Never stops .. endless loop! Clearing cache and app data or reinstall are the only solutions, but the problem returns within 24 hrs. Please fix .. I need this for work!!!!   \n",
       "244                                                                                                                                                                                                             Amazing software. Has totally revolutionised the way we work. Have been trying for years to persuade our boards to seek a solution like this. It is more inclusive and enables greater diversity as we no longer need to meet in person. We'll done to you all and thank you. Simon Payne   \n",
       "167                                                                                                                          Updated review: It worked after uninstalling and installing again. Previous Review: Unable to login to my account back after updates. Error : Can't downgrade database from version 237 to 223 SQLiteInjection & RuntimeExceptionError on ActivityThread.callActivityOnStop method ActivityThread.java line number 4711 Happens when I am logging into my corporate account.   \n",
       "113                                                                                              Much better, lighter and feature packed option than Skype for Business. Of course, this is a bigger solution with many integrations to Microsoft technologies like SharePoint or Planner. But for conferences and work chat it works much better in Android than S4B. Now, I can't say the same of the Windows app. Lately it is misbehaving with the android keyboard so I have to decrease the rating.   \n",
       "144                                                                                                                                                                                                                                    There is something wrong about the latest update. Signed in successfully but the synchronized process was taking forever that i couldn't use the app. Since i use this app for working purposes, please take a considerably amount of time to fix this. Thank you.   \n",
       "150                                                                                                                                                                                                                                                    Every time I don't open the app for a interval of 3-4 days, I am logged out. And I have to uninstall and again install the app every time I am logged out because it is not logging in again. Overall, the app is good. But please fix this issue.   \n",
       "\n",
       "     Sentiment  Cluster  \n",
       "73      0.8591        2  \n",
       "990     0.7364        2  \n",
       "288    -0.5789        2  \n",
       "82      0.7783        2  \n",
       "930     0.3120        2  \n",
       "244     0.8860        2  \n",
       "167    -0.3400        2  \n",
       "113     0.7845        2  \n",
       "144     0.7791        2  \n",
       "150     0.6369        2  "
      ]
     },
     "execution_count": 206,
     "metadata": {},
     "output_type": "execute_result"
    }
   ],
   "source": [
    "for i in range(0, clusterCnt):\n",
    "    print(topWords_teams_pos[i])\n",
    "df_teams_pos[df_teams_pos[\"Cluster\"] == 2].sort_values('UpVote', ascending=False).head(10)"
   ]
  },
  {
   "cell_type": "markdown",
   "metadata": {},
   "source": [
    "* **ZOOM: Negative Reviews**"
   ]
  },
  {
   "cell_type": "markdown",
   "metadata": {},
   "source": [
    "* Cluster 1: Video & Audio lags. Lack of speaker screen grid view on mobile. \n",
    "* Cluster 2: Unstable network connection. \n",
    "* Cluster 3: Lack of virtual background suppport on many Android devices."
   ]
  },
  {
   "cell_type": "code",
   "execution_count": 209,
   "metadata": {
    "scrolled": false
   },
   "outputs": [
    {
     "name": "stdout",
     "output_type": "stream",
     "text": [
      "['share', 'join', 'video', 'screen', 'try', 'link', 'account', 'audio', 'use', 'don']\n",
      "['problem', 'connect', 'network', 'show', 'bad', 'fix', 'class', 'phone', 'time', 'solve']\n",
      "['background', 'update', 'virtual', 'version', 'work', 'issue', 'user', 'android', 'stop', 'use']\n"
     ]
    },
    {
     "data": {
      "text/html": [
       "<div>\n",
       "<style scoped>\n",
       "    .dataframe tbody tr th:only-of-type {\n",
       "        vertical-align: middle;\n",
       "    }\n",
       "\n",
       "    .dataframe tbody tr th {\n",
       "        vertical-align: top;\n",
       "    }\n",
       "\n",
       "    .dataframe thead th {\n",
       "        text-align: right;\n",
       "    }\n",
       "</style>\n",
       "<table border=\"1\" class=\"dataframe\">\n",
       "  <thead>\n",
       "    <tr style=\"text-align: right;\">\n",
       "      <th></th>\n",
       "      <th>Reviewer</th>\n",
       "      <th>Date</th>\n",
       "      <th>Rating</th>\n",
       "      <th>UpVote</th>\n",
       "      <th>Comment</th>\n",
       "      <th>Sentiment</th>\n",
       "      <th>Cluster</th>\n",
       "    </tr>\n",
       "  </thead>\n",
       "  <tbody>\n",
       "    <tr>\n",
       "      <th>176</th>\n",
       "      <td>Suzanne Cakalic</td>\n",
       "      <td>March 27, 2021</td>\n",
       "      <td>2</td>\n",
       "      <td>17289</td>\n",
       "      <td>In general, don't really have a problem, but more specifically: it eats a LOT of battery. Many times I have to connect my charger just to get through 1½ hour meetings when I started with 100%. After update I can do virtual backgrounds (Yay!). Can't start a meeting of my own, only can join. Can't even find a way to sign out and sign back in again. What's up with that? Updated on another device and no option for virtual backgrounds again. Was able to use them before, but now it does not even show.</td>\n",
       "      <td>0.5590</td>\n",
       "      <td>2</td>\n",
       "    </tr>\n",
       "    <tr>\n",
       "      <th>125</th>\n",
       "      <td>UMAR SIDDIQUI</td>\n",
       "      <td>May 13, 2021</td>\n",
       "      <td>2</td>\n",
       "      <td>7266</td>\n",
       "      <td>The app works well and without any interruptions. But I'm still unable to use this app with Bluetooth eatphones. This is very serious since new mobile phone are getting rid of the headphone jack and in that case Bluetooth is a must. Whenever I join a meeting with Bluetooth earphones,it works well for 2 minutes and then it starts lagging. Please resolve this issue before it's too late.</td>\n",
       "      <td>0.8345</td>\n",
       "      <td>2</td>\n",
       "    </tr>\n",
       "    <tr>\n",
       "      <th>137</th>\n",
       "      <td>Rifqi Zauhair</td>\n",
       "      <td>May 21, 2021</td>\n",
       "      <td>1</td>\n",
       "      <td>789</td>\n",
       "      <td>It has the problem during the connection unstable but I'm ensure to use the highly connection speed of WiFi signal. This problem is happened twice. I've already uninstalled for twice and updating the app version. For the moment after the latest version's update, it solved. In my second chance after update, the buggy message of error 5003 is appear again. I hope zoom could resolve this for the user. At least, because zoom is first choice for video teleconferencing. Thanks</td>\n",
       "      <td>0.8735</td>\n",
       "      <td>2</td>\n",
       "    </tr>\n",
       "    <tr>\n",
       "      <th>33</th>\n",
       "      <td>Ali Ben Ezzeddine</td>\n",
       "      <td>May 26, 2021</td>\n",
       "      <td>2</td>\n",
       "      <td>676</td>\n",
       "      <td>I'm on a tablet and when I join my class' zoom it's recorded when I join it a little message pops up and when I do accept it tells me: recording started or something even when I leave like that this even happens to my classmates and also can example do the filters and the video background too because I only know that all of the filters and video backgrounds are used in the iPad and laptop please fix this. -Thank you.</td>\n",
       "      <td>0.8625</td>\n",
       "      <td>2</td>\n",
       "    </tr>\n",
       "    <tr>\n",
       "      <th>347</th>\n",
       "      <td>Alexander Bunn</td>\n",
       "      <td>April 16, 2021</td>\n",
       "      <td>1</td>\n",
       "      <td>581</td>\n",
       "      <td>Exceedingly poor UI design, ended up having to aplogise and being muted by host in a company wide meeting for joining remotely in an area with a bit of background noise because I was unable to locate the mute control on my end. All I could do was switch between viewing my camera, the active speaker, and all other call participants. In these times it's simply unexcusable for such a vital app like this to have such pathetic UI design.</td>\n",
       "      <td>-0.1027</td>\n",
       "      <td>2</td>\n",
       "    </tr>\n",
       "    <tr>\n",
       "      <th>260</th>\n",
       "      <td>Gregas Gregorio</td>\n",
       "      <td>April 19, 2021</td>\n",
       "      <td>2</td>\n",
       "      <td>574</td>\n",
       "      <td>This app is very limited compared to what can be done with the desktop version. Unlike the desktop version, the Android app only shows a maximum of 4 participants at once. Even on a large tablet. There is no option to blur the background. The app works ok, but find myself consistently switching to my computer because of something I cannot do in the app.</td>\n",
       "      <td>-0.1522</td>\n",
       "      <td>2</td>\n",
       "    </tr>\n",
       "    <tr>\n",
       "      <th>270</th>\n",
       "      <td>Laurel</td>\n",
       "      <td>April 8, 2021</td>\n",
       "      <td>1</td>\n",
       "      <td>572</td>\n",
       "      <td>I really wanted to be able to use Virtual Backgrounds with this since I cannot do so on my laptop (even though it has FAR above the minimum requirements to run it...) But, nope, there is not even the option showing to use virtual backgrounds for the app, either. I REALLY need this feature for work...so frustrating that I can't use it on either device.</td>\n",
       "      <td>-0.5777</td>\n",
       "      <td>2</td>\n",
       "    </tr>\n",
       "    <tr>\n",
       "      <th>420</th>\n",
       "      <td>ellen blessed</td>\n",
       "      <td>March 27, 2021</td>\n",
       "      <td>1</td>\n",
       "      <td>213</td>\n",
       "      <td>Everything is quite good except for one thing, I CAN'T MESSEGE SOMEONE THAT IS NOT A HOST OR CO-HOST! And I cannot move people when a person is spotlighted. This app could just make the spotlighted person pn the very front wile I could move other people near me. This app needs to improve a lot the next update! This app also has many bugs!</td>\n",
       "      <td>0.7264</td>\n",
       "      <td>2</td>\n",
       "    </tr>\n",
       "    <tr>\n",
       "      <th>706</th>\n",
       "      <td>Sashan Jayawardena</td>\n",
       "      <td>May 4, 2021</td>\n",
       "      <td>1</td>\n",
       "      <td>102</td>\n",
       "      <td>Support for Android 4.4? I have older tab with android 4.4 since latest app only supports only android 5 upwards, I found apk that support for Android 4.4 from a third party site. It normally installs and when join a meeting, asks ID and password after grabbing all it says \"there's a new version update\" since update isn't support only other option is cancel. When i click cancel. Goes back to home page. Isn't your app support older versions?</td>\n",
       "      <td>0.9217</td>\n",
       "      <td>2</td>\n",
       "    </tr>\n",
       "    <tr>\n",
       "      <th>16</th>\n",
       "      <td>Charan Mahendaran</td>\n",
       "      <td>May 31, 2021</td>\n",
       "      <td>1</td>\n",
       "      <td>96</td>\n",
       "      <td>Flop I am using it since a year. It was working perfectly fine but after the latest update everything has gone wrong. It gets stuck in the middle not able do or see anything except for a blank screen and the audio of the meeting Why the heck is this happening??????????🤬🤬🤬🤬🤬🤬🤬</td>\n",
       "      <td>-0.6542</td>\n",
       "      <td>2</td>\n",
       "    </tr>\n",
       "  </tbody>\n",
       "</table>\n",
       "</div>"
      ],
      "text/plain": [
       "               Reviewer            Date  Rating  UpVote  \\\n",
       "176     Suzanne Cakalic  March 27, 2021       2   17289   \n",
       "125       UMAR SIDDIQUI    May 13, 2021       2    7266   \n",
       "137       Rifqi Zauhair    May 21, 2021       1     789   \n",
       "33    Ali Ben Ezzeddine    May 26, 2021       2     676   \n",
       "347      Alexander Bunn  April 16, 2021       1     581   \n",
       "260     Gregas Gregorio  April 19, 2021       2     574   \n",
       "270              Laurel   April 8, 2021       1     572   \n",
       "420       ellen blessed  March 27, 2021       1     213   \n",
       "706  Sashan Jayawardena     May 4, 2021       1     102   \n",
       "16    Charan Mahendaran    May 31, 2021       1      96   \n",
       "\n",
       "                                                                                                                                                                                                                                                                                                                                                                                                                                                                                                                  Comment  \\\n",
       "176  In general, don't really have a problem, but more specifically: it eats a LOT of battery. Many times I have to connect my charger just to get through 1½ hour meetings when I started with 100%. After update I can do virtual backgrounds (Yay!). Can't start a meeting of my own, only can join. Can't even find a way to sign out and sign back in again. What's up with that? Updated on another device and no option for virtual backgrounds again. Was able to use them before, but now it does not even show.   \n",
       "125                                                                                                                   The app works well and without any interruptions. But I'm still unable to use this app with Bluetooth eatphones. This is very serious since new mobile phone are getting rid of the headphone jack and in that case Bluetooth is a must. Whenever I join a meeting with Bluetooth earphones,it works well for 2 minutes and then it starts lagging. Please resolve this issue before it's too late.   \n",
       "137                           It has the problem during the connection unstable but I'm ensure to use the highly connection speed of WiFi signal. This problem is happened twice. I've already uninstalled for twice and updating the app version. For the moment after the latest version's update, it solved. In my second chance after update, the buggy message of error 5003 is appear again. I hope zoom could resolve this for the user. At least, because zoom is first choice for video teleconferencing. Thanks   \n",
       "33                                                                                   I'm on a tablet and when I join my class' zoom it's recorded when I join it a little message pops up and when I do accept it tells me: recording started or something even when I leave like that this even happens to my classmates and also can example do the filters and the video background too because I only know that all of the filters and video backgrounds are used in the iPad and laptop please fix this. -Thank you.   \n",
       "347                                                                  Exceedingly poor UI design, ended up having to aplogise and being muted by host in a company wide meeting for joining remotely in an area with a bit of background noise because I was unable to locate the mute control on my end. All I could do was switch between viewing my camera, the active speaker, and all other call participants. In these times it's simply unexcusable for such a vital app like this to have such pathetic UI design.   \n",
       "260                                                                                                                                                   This app is very limited compared to what can be done with the desktop version. Unlike the desktop version, the Android app only shows a maximum of 4 participants at once. Even on a large tablet. There is no option to blur the background. The app works ok, but find myself consistently switching to my computer because of something I cannot do in the app.   \n",
       "270                                                                                                                                                     I really wanted to be able to use Virtual Backgrounds with this since I cannot do so on my laptop (even though it has FAR above the minimum requirements to run it...) But, nope, there is not even the option showing to use virtual backgrounds for the app, either. I REALLY need this feature for work...so frustrating that I can't use it on either device.   \n",
       "420                                                                                                                                                                  Everything is quite good except for one thing, I CAN'T MESSEGE SOMEONE THAT IS NOT A HOST OR CO-HOST! And I cannot move people when a person is spotlighted. This app could just make the spotlighted person pn the very front wile I could move other people near me. This app needs to improve a lot the next update! This app also has many bugs!   \n",
       "706                                                          Support for Android 4.4? I have older tab with android 4.4 since latest app only supports only android 5 upwards, I found apk that support for Android 4.4 from a third party site. It normally installs and when join a meeting, asks ID and password after grabbing all it says \"there's a new version update\" since update isn't support only other option is cancel. When i click cancel. Goes back to home page. Isn't your app support older versions?   \n",
       "16                                                                                                                                                                                                                                   Flop I am using it since a year. It was working perfectly fine but after the latest update everything has gone wrong. It gets stuck in the middle not able do or see anything except for a blank screen and the audio of the meeting Why the heck is this happening??????????🤬🤬🤬🤬🤬🤬🤬   \n",
       "\n",
       "     Sentiment  Cluster  \n",
       "176     0.5590        2  \n",
       "125     0.8345        2  \n",
       "137     0.8735        2  \n",
       "33      0.8625        2  \n",
       "347    -0.1027        2  \n",
       "260    -0.1522        2  \n",
       "270    -0.5777        2  \n",
       "420     0.7264        2  \n",
       "706     0.9217        2  \n",
       "16     -0.6542        2  "
      ]
     },
     "execution_count": 209,
     "metadata": {},
     "output_type": "execute_result"
    }
   ],
   "source": [
    "for i in range(0, clusterCnt):\n",
    "    print(topWords_zoom_neg[i])\n",
    "df_zoom_neg[df_zoom_neg[\"Cluster\"] == 2].sort_values('UpVote', ascending=False).head(10)"
   ]
  },
  {
   "cell_type": "markdown",
   "metadata": {},
   "source": [
    "* **Teams: Negative Reviews**"
   ]
  },
  {
   "cell_type": "markdown",
   "metadata": {},
   "source": [
    "* Cluster 1: Error loop on the account authentication page. \n",
    "* Cluster 2: Not in sync with the desktop version. \n",
    "* Cluster 3: Long load times. File sharing system can be glitchy. "
   ]
  },
  {
   "cell_type": "code",
   "execution_count": 212,
   "metadata": {
    "scrolled": false
   },
   "outputs": [
    {
     "name": "stdout",
     "output_type": "stream",
     "text": [
      "['work', 'account', 'don', 'message', 'screen', 'phone', 'log', 'reinstall', 'open', 'sign']\n",
      "['chat', 'update', 'mobile', 'device', 'desktop', 'doesn', 'android', 'notification', 'read', 'organization']\n",
      "['time', 'take', 'problem', 'video', 'fix', 'share', 'update', 'doesn', 'join', 'load']\n"
     ]
    },
    {
     "data": {
      "text/html": [
       "<div>\n",
       "<style scoped>\n",
       "    .dataframe tbody tr th:only-of-type {\n",
       "        vertical-align: middle;\n",
       "    }\n",
       "\n",
       "    .dataframe tbody tr th {\n",
       "        vertical-align: top;\n",
       "    }\n",
       "\n",
       "    .dataframe thead th {\n",
       "        text-align: right;\n",
       "    }\n",
       "</style>\n",
       "<table border=\"1\" class=\"dataframe\">\n",
       "  <thead>\n",
       "    <tr style=\"text-align: right;\">\n",
       "      <th></th>\n",
       "      <th>Reviewer</th>\n",
       "      <th>Date</th>\n",
       "      <th>Rating</th>\n",
       "      <th>UpVote</th>\n",
       "      <th>Comment</th>\n",
       "      <th>Sentiment</th>\n",
       "      <th>Cluster</th>\n",
       "    </tr>\n",
       "  </thead>\n",
       "  <tbody>\n",
       "    <tr>\n",
       "      <th>984</th>\n",
       "      <td>Jasmine Leong</td>\n",
       "      <td>May 22, 2021</td>\n",
       "      <td>1</td>\n",
       "      <td>1436</td>\n",
       "      <td>The Teams Android app was amazing for so long, it worked flawlessly for me. After this most recent update all it does is refresh the screen and I can't click on anything for 30 seconds to a minute. Then when I try to click on something, it gives a helpful error message: \"Something went wrong.\" I can't communicate with this app anymore, I've tried deleting cache for the app, reinstalling, etc and nothing has fixed this. Microsoft, please fix this app.</td>\n",
       "      <td>0.5994</td>\n",
       "      <td>2</td>\n",
       "    </tr>\n",
       "    <tr>\n",
       "      <th>146</th>\n",
       "      <td>Josh Price</td>\n",
       "      <td>May 29, 2021</td>\n",
       "      <td>1</td>\n",
       "      <td>835</td>\n",
       "      <td>Sometimes, the GUI disappears and the shared screen or gallery is just there, no other response other than pressing the power button. Whenever I switch to another window, the MS Teams become unresponsive to touch but still going on.</td>\n",
       "      <td>-0.1531</td>\n",
       "      <td>2</td>\n",
       "    </tr>\n",
       "    <tr>\n",
       "      <th>16</th>\n",
       "      <td>Karen Anne Marzo</td>\n",
       "      <td>May 20, 2021</td>\n",
       "      <td>1</td>\n",
       "      <td>452</td>\n",
       "      <td>It takes ages to load and even cannot download files. When my internet speed is fast then also it takes ages to open a file and it is very slow. There is lots of problems when I try to navigate from one part to another. While joining meeting also it takes long time to join and when you try to unmute your mic it takes lots of time so I cannot present my views in the meeting. It needs alots of improvements.</td>\n",
       "      <td>0.2023</td>\n",
       "      <td>2</td>\n",
       "    </tr>\n",
       "    <tr>\n",
       "      <th>27</th>\n",
       "      <td>Ridhima Sharma</td>\n",
       "      <td>May 20, 2021</td>\n",
       "      <td>2</td>\n",
       "      <td>443</td>\n",
       "      <td>Dear Microsoft, I have several issues using this app: 1. The call ends unexpectedly 2. The shared image is sometimes worse than the garbage 3. Audio and video sometimes crashes the application The list continues... I hope that these issues would be patched soon. And as a request, add a feature to manage the timeout. Also I am unable to login on Parrot sec. OS. (Web and application)</td>\n",
       "      <td>0.5859</td>\n",
       "      <td>2</td>\n",
       "    </tr>\n",
       "    <tr>\n",
       "      <th>868</th>\n",
       "      <td>Zane Geurtse</td>\n",
       "      <td>May 19, 2021</td>\n",
       "      <td>1</td>\n",
       "      <td>369</td>\n",
       "      <td>Absolutely the worst app. Can't connect my Bluetooth headphones during a meeting. Works with all other apps, but not Teams. Fine, try listening through the speaker. With every spoken word, there's static afterward. I'm a frontline worker who doesn't get the luxury of an office. So how am I suppose to maintain privacy when the platform being used doesn't work?</td>\n",
       "      <td>-0.5540</td>\n",
       "      <td>2</td>\n",
       "    </tr>\n",
       "    <tr>\n",
       "      <th>40</th>\n",
       "      <td>Andrei Dobrea</td>\n",
       "      <td>May 21, 2021</td>\n",
       "      <td>1</td>\n",
       "      <td>241</td>\n",
       "      <td>Absolutely ridiculous that, with so much feedback over the last year or so, the developers have not installed a way to reject incoming calls during quiet hours. I have work partners who are in different time zones and they attempt group calls at 5-6 a.m. my time. I would hate to delete the app, as otherwise it is very good, but I am about to be forced to do that after another unwanted wake up call. Be better!</td>\n",
       "      <td>-0.6705</td>\n",
       "      <td>2</td>\n",
       "    </tr>\n",
       "    <tr>\n",
       "      <th>129</th>\n",
       "      <td>Tejas Patil</td>\n",
       "      <td>May 22, 2021</td>\n",
       "      <td>2</td>\n",
       "      <td>232</td>\n",
       "      <td>This app is glitchy and crashes constantly, I can't use it to conduct any business activities as I always get a pop up saying 'Something went wrong'. It only serves a purpose by permitting you to check to your diary before the working day. It feels as if the main cooperations focus more on IPhone and forget Andripd optimisation.</td>\n",
       "      <td>-0.3400</td>\n",
       "      <td>2</td>\n",
       "    </tr>\n",
       "    <tr>\n",
       "      <th>15</th>\n",
       "      <td>Kaz Z</td>\n",
       "      <td>June 2, 2021</td>\n",
       "      <td>2</td>\n",
       "      <td>192</td>\n",
       "      <td>It does work well on pc, but not on the mobile app. Time shift takes a really long time to load, and at times does not load at all. i always have to close the app, put it back on and try to load shifts. I do this not only once, but many times before I actually can time in. i hope you fix this issue. almost all of my workmates experience this.</td>\n",
       "      <td>0.6597</td>\n",
       "      <td>2</td>\n",
       "    </tr>\n",
       "    <tr>\n",
       "      <th>32</th>\n",
       "      <td>Microsoft Corporation</td>\n",
       "      <td>May 20, 2021</td>\n",
       "      <td>1</td>\n",
       "      <td>171</td>\n",
       "      <td>Absolutely awful I've missed v important meetings. Every time I've used it, and on different devices, it either doesn't work at all or glitches like crazy. Lose audio, video etc. Utterly useless. If I could I'd use Zoom every time which never goes wrong. But unfortunately so many organisations are using this heap of c***. I'd give it zero stars but you can't.</td>\n",
       "      <td>-0.6277</td>\n",
       "      <td>2</td>\n",
       "    </tr>\n",
       "    <tr>\n",
       "      <th>889</th>\n",
       "      <td>Ronda Derk</td>\n",
       "      <td>May 10, 2021</td>\n",
       "      <td>1</td>\n",
       "      <td>162</td>\n",
       "      <td>I use this app for work. We chat, share pictures and videos taken from the field. Microsoft Teams handles sharing videos really badly. Most of the time videos fail to upload. The app freezes with a message 'Something went wrong'. In addition once the upload has failed, you cannot retry. You guys need to borrow a leaf from Skype. The image sharing function on Skype is a lot better.</td>\n",
       "      <td>-0.5709</td>\n",
       "      <td>2</td>\n",
       "    </tr>\n",
       "  </tbody>\n",
       "</table>\n",
       "</div>"
      ],
      "text/plain": [
       "                  Reviewer          Date  Rating  UpVote  \\\n",
       "984          Jasmine Leong  May 22, 2021       1    1436   \n",
       "146             Josh Price  May 29, 2021       1     835   \n",
       "16        Karen Anne Marzo  May 20, 2021       1     452   \n",
       "27          Ridhima Sharma  May 20, 2021       2     443   \n",
       "868           Zane Geurtse  May 19, 2021       1     369   \n",
       "40           Andrei Dobrea  May 21, 2021       1     241   \n",
       "129            Tejas Patil  May 22, 2021       2     232   \n",
       "15                   Kaz Z  June 2, 2021       2     192   \n",
       "32   Microsoft Corporation  May 20, 2021       1     171   \n",
       "889             Ronda Derk  May 10, 2021       1     162   \n",
       "\n",
       "                                                                                                                                                                                                                                                                                                                                                                                                                                                                    Comment  \\\n",
       "984  The Teams Android app was amazing for so long, it worked flawlessly for me. After this most recent update all it does is refresh the screen and I can't click on anything for 30 seconds to a minute. Then when I try to click on something, it gives a helpful error message: \"Something went wrong.\" I can't communicate with this app anymore, I've tried deleting cache for the app, reinstalling, etc and nothing has fixed this. Microsoft, please fix this app.   \n",
       "146                                                                                                                                                                                                                                Sometimes, the GUI disappears and the shared screen or gallery is just there, no other response other than pressing the power button. Whenever I switch to another window, the MS Teams become unresponsive to touch but still going on.   \n",
       "16                                                 It takes ages to load and even cannot download files. When my internet speed is fast then also it takes ages to open a file and it is very slow. There is lots of problems when I try to navigate from one part to another. While joining meeting also it takes long time to join and when you try to unmute your mic it takes lots of time so I cannot present my views in the meeting. It needs alots of improvements.   \n",
       "27                                                                         Dear Microsoft, I have several issues using this app: 1. The call ends unexpectedly 2. The shared image is sometimes worse than the garbage 3. Audio and video sometimes crashes the application The list continues... I hope that these issues would be patched soon. And as a request, add a feature to manage the timeout. Also I am unable to login on Parrot sec. OS. (Web and application)   \n",
       "868                                                                                               Absolutely the worst app. Can't connect my Bluetooth headphones during a meeting. Works with all other apps, but not Teams. Fine, try listening through the speaker. With every spoken word, there's static afterward. I'm a frontline worker who doesn't get the luxury of an office. So how am I suppose to maintain privacy when the platform being used doesn't work?   \n",
       "40                                             Absolutely ridiculous that, with so much feedback over the last year or so, the developers have not installed a way to reject incoming calls during quiet hours. I have work partners who are in different time zones and they attempt group calls at 5-6 a.m. my time. I would hate to delete the app, as otherwise it is very good, but I am about to be forced to do that after another unwanted wake up call. Be better!   \n",
       "129                                                                                                                              This app is glitchy and crashes constantly, I can't use it to conduct any business activities as I always get a pop up saying 'Something went wrong'. It only serves a purpose by permitting you to check to your diary before the working day. It feels as if the main cooperations focus more on IPhone and forget Andripd optimisation.   \n",
       "15                                                                                                                 It does work well on pc, but not on the mobile app. Time shift takes a really long time to load, and at times does not load at all. i always have to close the app, put it back on and try to load shifts. I do this not only once, but many times before I actually can time in. i hope you fix this issue. almost all of my workmates experience this.   \n",
       "32                                                                                                Absolutely awful I've missed v important meetings. Every time I've used it, and on different devices, it either doesn't work at all or glitches like crazy. Lose audio, video etc. Utterly useless. If I could I'd use Zoom every time which never goes wrong. But unfortunately so many organisations are using this heap of c***. I'd give it zero stars but you can't.   \n",
       "889                                                                         I use this app for work. We chat, share pictures and videos taken from the field. Microsoft Teams handles sharing videos really badly. Most of the time videos fail to upload. The app freezes with a message 'Something went wrong'. In addition once the upload has failed, you cannot retry. You guys need to borrow a leaf from Skype. The image sharing function on Skype is a lot better.   \n",
       "\n",
       "     Sentiment  Cluster  \n",
       "984     0.5994        2  \n",
       "146    -0.1531        2  \n",
       "16      0.2023        2  \n",
       "27      0.5859        2  \n",
       "868    -0.5540        2  \n",
       "40     -0.6705        2  \n",
       "129    -0.3400        2  \n",
       "15      0.6597        2  \n",
       "32     -0.6277        2  \n",
       "889    -0.5709        2  "
      ]
     },
     "execution_count": 212,
     "metadata": {},
     "output_type": "execute_result"
    }
   ],
   "source": [
    "for i in range(0, clusterCnt):\n",
    "    print(topWords_teams_neg[i])\n",
    "df_teams_neg[df_teams_neg[\"Cluster\"] == 2].sort_values('UpVote', ascending=False).head(10)"
   ]
  },
  {
   "cell_type": "code",
   "execution_count": 214,
   "metadata": {},
   "outputs": [
    {
     "data": {
      "text/html": [
       "<div>\n",
       "<style scoped>\n",
       "    .dataframe tbody tr th:only-of-type {\n",
       "        vertical-align: middle;\n",
       "    }\n",
       "\n",
       "    .dataframe tbody tr th {\n",
       "        vertical-align: top;\n",
       "    }\n",
       "\n",
       "    .dataframe thead th {\n",
       "        text-align: right;\n",
       "    }\n",
       "</style>\n",
       "<table border=\"1\" class=\"dataframe\">\n",
       "  <thead>\n",
       "    <tr style=\"text-align: right;\">\n",
       "      <th></th>\n",
       "      <th>Reviewer</th>\n",
       "      <th>Date</th>\n",
       "      <th>Rating</th>\n",
       "      <th>UpVote</th>\n",
       "      <th>Comment</th>\n",
       "      <th>Sentiment</th>\n",
       "      <th>Cluster</th>\n",
       "    </tr>\n",
       "  </thead>\n",
       "  <tbody>\n",
       "    <tr>\n",
       "      <th>4</th>\n",
       "      <td>Angela Treasure</td>\n",
       "      <td>May 30, 2021</td>\n",
       "      <td>5</td>\n",
       "      <td>1084</td>\n",
       "      <td>Zoom is a blessing, its not perfect, nothing in this world is perfect, God bless the person or persons who invented this app, keep up the good work, there are some kinks that needs to be straightened out, sometimes voice or picture quality could be better. Picture and voice quality much improved, again, thanks for your service.</td>\n",
       "      <td>0.9170</td>\n",
       "      <td>0</td>\n",
       "    </tr>\n",
       "    <tr>\n",
       "      <th>7</th>\n",
       "      <td>Yeshwanth Gosukonda</td>\n",
       "      <td>June 2, 2021</td>\n",
       "      <td>5</td>\n",
       "      <td>7</td>\n",
       "      <td>keka</td>\n",
       "      <td>0.0000</td>\n",
       "      <td>0</td>\n",
       "    </tr>\n",
       "    <tr>\n",
       "      <th>8</th>\n",
       "      <td>Bakhrom Norkulov</td>\n",
       "      <td>May 31, 2021</td>\n",
       "      <td>4</td>\n",
       "      <td>902</td>\n",
       "      <td>Hi there I am Bakhrom Norkulov, a Software Engineer I want to tell u one thing about ZOOM. From my own experience while using ZOOM, I have a bug during usage. It is all about chatbox. Whenever one line of text is written in the chatbox, if the user wants to continue the line by the second line, it is impossible. When I tried to step to the next line, while pressing \"Enter\" button , it will automatically send the message instead of continuing. I hope u will improve it✌</td>\n",
       "      <td>0.7269</td>\n",
       "      <td>0</td>\n",
       "    </tr>\n",
       "    <tr>\n",
       "      <th>18</th>\n",
       "      <td>Tim Clarke</td>\n",
       "      <td>May 27, 2021</td>\n",
       "      <td>5</td>\n",
       "      <td>1298</td>\n",
       "      <td>LOVE IT! Using zoom on a mobile device is a super simple and smooth experience. Its by far the best, most reliable tool of its kind that i have used and I can't recommend it highly enough. Thanks to the lovely people at zoom for a great product that just does what it says it will do. a rarity in this day and age.</td>\n",
       "      <td>0.9849</td>\n",
       "      <td>0</td>\n",
       "    </tr>\n",
       "    <tr>\n",
       "      <th>19</th>\n",
       "      <td>Rishi Chanardip</td>\n",
       "      <td>June 1, 2021</td>\n",
       "      <td>5</td>\n",
       "      <td>22</td>\n",
       "      <td>I absolutely love it, it works wonderfully but it takes long to update, the emoji library takes forever to download and it is very hard to get a profile picture. If zoom was to update again, I suggest to have a \"set profile picture\" option in settings .</td>\n",
       "      <td>0.4866</td>\n",
       "      <td>0</td>\n",
       "    </tr>\n",
       "    <tr>\n",
       "      <th>...</th>\n",
       "      <td>...</td>\n",
       "      <td>...</td>\n",
       "      <td>...</td>\n",
       "      <td>...</td>\n",
       "      <td>...</td>\n",
       "      <td>...</td>\n",
       "      <td>...</td>\n",
       "    </tr>\n",
       "    <tr>\n",
       "      <th>961</th>\n",
       "      <td>Trish Difranco Difranco</td>\n",
       "      <td>May 28, 2021</td>\n",
       "      <td>4</td>\n",
       "      <td>45</td>\n",
       "      <td>I like zoom. It's has really taken off for everyone during the pandemic since we are in a virtual situation now. It's not perfect so that's why it doesn't get a 5 stars. But it's a really good way to connect.</td>\n",
       "      <td>0.4009</td>\n",
       "      <td>0</td>\n",
       "    </tr>\n",
       "    <tr>\n",
       "      <th>965</th>\n",
       "      <td>Bobby Willingham</td>\n",
       "      <td>May 14, 2021</td>\n",
       "      <td>5</td>\n",
       "      <td>7</td>\n",
       "      <td>It is a very good app for connecting over with people and we can store a huge amount of data also in the zoom app and it is really a thrilling and a good experience of using zoom .Try downloading it and I am sure that u are also going to like it very much</td>\n",
       "      <td>0.9421</td>\n",
       "      <td>0</td>\n",
       "    </tr>\n",
       "    <tr>\n",
       "      <th>971</th>\n",
       "      <td>Kiran Singh</td>\n",
       "      <td>May 25, 2021</td>\n",
       "      <td>4</td>\n",
       "      <td>12</td>\n",
       "      <td>Zoom is good for online meetings but it happens to use more data bundle and it needs high speed internet connection which is not best for the people at rural areas. Please check out and fix it. Lower the app expectations.</td>\n",
       "      <td>-0.5349</td>\n",
       "      <td>0</td>\n",
       "    </tr>\n",
       "    <tr>\n",
       "      <th>975</th>\n",
       "      <td>Tokyo Toki Fnaf</td>\n",
       "      <td>May 5, 2021</td>\n",
       "      <td>4</td>\n",
       "      <td>6</td>\n",
       "      <td>Very efficient for meetings when purchased. However you have to rejoin for meetings that are free, last a shorter time.</td>\n",
       "      <td>0.7501</td>\n",
       "      <td>0</td>\n",
       "    </tr>\n",
       "    <tr>\n",
       "      <th>985</th>\n",
       "      <td>Lynne Youngson</td>\n",
       "      <td>May 19, 2021</td>\n",
       "      <td>4</td>\n",
       "      <td>116</td>\n",
       "      <td>Easy to use. Reliable app for the most part. Just make sure you have the access code and make sure you have realy good internet connection while using it.</td>\n",
       "      <td>0.8555</td>\n",
       "      <td>0</td>\n",
       "    </tr>\n",
       "  </tbody>\n",
       "</table>\n",
       "<p>111 rows × 7 columns</p>\n",
       "</div>"
      ],
      "text/plain": [
       "                    Reviewer          Date  Rating  UpVote  \\\n",
       "4            Angela Treasure  May 30, 2021       5    1084   \n",
       "7        Yeshwanth Gosukonda  June 2, 2021       5       7   \n",
       "8           Bakhrom Norkulov  May 31, 2021       4     902   \n",
       "18                Tim Clarke  May 27, 2021       5    1298   \n",
       "19           Rishi Chanardip  June 1, 2021       5      22   \n",
       "..                       ...           ...     ...     ...   \n",
       "961  Trish Difranco Difranco  May 28, 2021       4      45   \n",
       "965         Bobby Willingham  May 14, 2021       5       7   \n",
       "971              Kiran Singh  May 25, 2021       4      12   \n",
       "975          Tokyo Toki Fnaf   May 5, 2021       4       6   \n",
       "985           Lynne Youngson  May 19, 2021       4     116   \n",
       "\n",
       "                                                                                                                                                                                                                                                                                                                                                                                                                                                                                      Comment  \\\n",
       "4                                                                                                                                                   Zoom is a blessing, its not perfect, nothing in this world is perfect, God bless the person or persons who invented this app, keep up the good work, there are some kinks that needs to be straightened out, sometimes voice or picture quality could be better. Picture and voice quality much improved, again, thanks for your service.   \n",
       "7                                                                                                                                                                                                                                                                                                                                                                                                                                                                                        keka   \n",
       "8    Hi there I am Bakhrom Norkulov, a Software Engineer I want to tell u one thing about ZOOM. From my own experience while using ZOOM, I have a bug during usage. It is all about chatbox. Whenever one line of text is written in the chatbox, if the user wants to continue the line by the second line, it is impossible. When I tried to step to the next line, while pressing \"Enter\" button , it will automatically send the message instead of continuing. I hope u will improve it✌   \n",
       "18                                                                                                                                                                 LOVE IT! Using zoom on a mobile device is a super simple and smooth experience. Its by far the best, most reliable tool of its kind that i have used and I can't recommend it highly enough. Thanks to the lovely people at zoom for a great product that just does what it says it will do. a rarity in this day and age.   \n",
       "19                                                                                                                                                                                                                              I absolutely love it, it works wonderfully but it takes long to update, the emoji library takes forever to download and it is very hard to get a profile picture. If zoom was to update again, I suggest to have a \"set profile picture\" option in settings .   \n",
       "..                                                                                                                                                                                                                                                                                                                                                                                                                                                                                        ...   \n",
       "961                                                                                                                                                                                                                                                                          I like zoom. It's has really taken off for everyone during the pandemic since we are in a virtual situation now. It's not perfect so that's why it doesn't get a 5 stars. But it's a really good way to connect.   \n",
       "965                                                                                                                                                                                                                           It is a very good app for connecting over with people and we can store a huge amount of data also in the zoom app and it is really a thrilling and a good experience of using zoom .Try downloading it and I am sure that u are also going to like it very much   \n",
       "971                                                                                                                                                                                                                                                             Zoom is good for online meetings but it happens to use more data bundle and it needs high speed internet connection which is not best for the people at rural areas. Please check out and fix it. Lower the app expectations.   \n",
       "975                                                                                                                                                                                                                                                                                                                                                                   Very efficient for meetings when purchased. However you have to rejoin for meetings that are free, last a shorter time.   \n",
       "985                                                                                                                                                                                                                                                                                                                                Easy to use. Reliable app for the most part. Just make sure you have the access code and make sure you have realy good internet connection while using it.   \n",
       "\n",
       "     Sentiment  Cluster  \n",
       "4       0.9170        0  \n",
       "7       0.0000        0  \n",
       "8       0.7269        0  \n",
       "18      0.9849        0  \n",
       "19      0.4866        0  \n",
       "..         ...      ...  \n",
       "961     0.4009        0  \n",
       "965     0.9421        0  \n",
       "971    -0.5349        0  \n",
       "975     0.7501        0  \n",
       "985     0.8555        0  \n",
       "\n",
       "[111 rows x 7 columns]"
      ]
     },
     "execution_count": 214,
     "metadata": {},
     "output_type": "execute_result"
    }
   ],
   "source": [
    "df_zoom_pos.loc[df_zoom_pos[\"Cluster\"]==0]"
   ]
  }
 ],
 "metadata": {
  "kernelspec": {
   "display_name": "Python 3",
   "language": "python",
   "name": "python3"
  },
  "language_info": {
   "codemirror_mode": {
    "name": "ipython",
    "version": 3
   },
   "file_extension": ".py",
   "mimetype": "text/x-python",
   "name": "python",
   "nbconvert_exporter": "python",
   "pygments_lexer": "ipython3",
   "version": "3.7.11"
  }
 },
 "nbformat": 4,
 "nbformat_minor": 4
}
